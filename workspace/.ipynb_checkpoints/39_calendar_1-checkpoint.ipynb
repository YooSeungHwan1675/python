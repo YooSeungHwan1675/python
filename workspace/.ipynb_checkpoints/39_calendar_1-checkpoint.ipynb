{
 "cells": [
  {
   "cell_type": "code",
   "execution_count": 11,
   "id": "27fa5fa1",
   "metadata": {},
   "outputs": [],
   "source": [
    "def isLeapYear(year):\n",
    "    return year % 4 ==0 and year % 100 != 0 or year % 400 ==0"
   ]
  },
  {
   "cell_type": "code",
   "execution_count": 12,
   "id": "49f3c8ec",
   "metadata": {},
   "outputs": [],
   "source": [
    "def lastDay(year,month):\n",
    "    m= [31,0,31,30,31,30,31,31,30,31,30,31]\n",
    "    m[1] = 29 if  isLeapYear(year) else 28\n",
    "    return m[month - 1]"
   ]
  },
  {
   "cell_type": "code",
   "execution_count": 13,
   "id": "28e50b90",
   "metadata": {},
   "outputs": [],
   "source": [
    "def totalDay(year, month, day):\n",
    "    total = (year - 1) *365 + (year -1) // 4 - (year -1) // 100 + (year -1) // 400\n",
    "    for i in range(1,month):\n",
    "        total += lastDay(year, i)\n",
    "    return total + day"
   ]
  },
  {
   "cell_type": "code",
   "execution_count": 14,
   "id": "023aa63d",
   "metadata": {},
   "outputs": [],
   "source": [
    "def weekDay(year,month,day):\n",
    "    return totalDay(year,month,day)%7"
   ]
  },
  {
   "cell_type": "code",
   "execution_count": 15,
   "id": "8c6d7221",
   "metadata": {},
   "outputs": [
    {
     "name": "stdout",
     "output_type": "stream",
     "text": [
      "False\n",
      "29\n",
      "738713\n",
      "3\n",
      "3\n"
     ]
    }
   ],
   "source": [
    "print(isLeapYear(2023))\n",
    "print(lastDay(2024,2))\n",
    "print(totalDay(2023,7,12))\n",
    "print(totalDay(2023,7,12) %7)\n",
    "print(weekDay(2023,7,12))"
   ]
  }
 ],
 "metadata": {
  "kernelspec": {
   "display_name": "Python 3",
   "language": "python",
   "name": "python3"
  },
  "language_info": {
   "codemirror_mode": {
    "name": "ipython",
    "version": 3
   },
   "file_extension": ".py",
   "mimetype": "text/x-python",
   "name": "python",
   "nbconvert_exporter": "python",
   "pygments_lexer": "ipython3",
   "version": "3.6.8"
  }
 },
 "nbformat": 4,
 "nbformat_minor": 5
}
