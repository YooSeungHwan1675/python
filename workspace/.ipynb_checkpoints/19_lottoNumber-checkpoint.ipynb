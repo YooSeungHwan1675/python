{
 "cells": [
  {
   "cell_type": "code",
   "execution_count": 4,
   "id": "6905b9b8",
   "metadata": {},
   "outputs": [],
   "source": [
    "import random\n",
    "lotto = [i for i in range(1,46)]"
   ]
  },
  {
   "cell_type": "code",
   "execution_count": 6,
   "id": "5e1d6112",
   "metadata": {},
   "outputs": [
    {
     "name": "stdout",
     "output_type": "stream",
     "text": [
      "금액을 입력하세요 :3000\n",
      "  1 game: 391935224112\n",
      "  2 game: 152839221206\n",
      "  3 game: 181922123817\n"
     ]
    }
   ],
   "source": [
    "# 로또 복권구매 금액을 입력 받아 입력받은 금액만큼 로또 번호를 생성하는 프로그램\n",
    "# 로또 복권 구매 금액을 입력받는다.\n",
    "money = int(input('금액을 입력하세요 :'))\n",
    "#로또 복권 구매 금액만큼 반복하며 로또 번호를 생성하다 .\n",
    "for i in range(money// 1000):\n",
    "    random.shuffle(lotto)\n",
    "    print('{:3d} game: '.format(i+1), end='')\n",
    "    for j in range(6):\n",
    "        print('{:02d}'.format(lotto[j]),end='')\n",
    "    print()"
   ]
  },
  {
   "cell_type": "code",
   "execution_count": null,
   "id": "f6bd11bb",
   "metadata": {},
   "outputs": [],
   "source": []
  },
  {
   "cell_type": "code",
   "execution_count": null,
   "id": "ee224009",
   "metadata": {},
   "outputs": [],
   "source": []
  },
  {
   "cell_type": "code",
   "execution_count": null,
   "id": "519306fa",
   "metadata": {},
   "outputs": [],
   "source": []
  },
  {
   "cell_type": "code",
   "execution_count": null,
   "id": "2c3d9904",
   "metadata": {},
   "outputs": [],
   "source": []
  }
 ],
 "metadata": {
  "kernelspec": {
   "display_name": "Python 3",
   "language": "python",
   "name": "python3"
  },
  "language_info": {
   "codemirror_mode": {
    "name": "ipython",
    "version": 3
   },
   "file_extension": ".py",
   "mimetype": "text/x-python",
   "name": "python",
   "nbconvert_exporter": "python",
   "pygments_lexer": "ipython3",
   "version": "3.6.8"
  }
 },
 "nbformat": 4,
 "nbformat_minor": 5
}
