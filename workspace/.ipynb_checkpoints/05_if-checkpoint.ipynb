{
 "cells": [
  {
   "cell_type": "markdown",
   "id": "0e6d9227",
   "metadata": {},
   "source": [
    "if 명령 형식\n",
    "\n",
    "if 조건식:  \n",
    "&nbsp;&nbsp;&nbsp;&nbsp;조건식이 참일 경우 실행할 문장  \n",
    "&nbsp;&nbsp;&nbsp;&nbsp;...\n",
    "else:  \n",
    "&nbsp;&nbsp;&nbsp;&nbsp;조건식이 거짓일 경우 실행할 문장   \n",
    "&nbsp;&nbsp;&nbsp;&nbsp;...\n",
    "***\n",
    "조건식을 만족하지 않을 때 아무런 일도 할 필요가 없다면 else 이하를 생략할 수 있다.\n",
    "조건식을 만족하는 경우 또는 만족하지 않는 경우에 실행할 문장이 없다면 pass를 입력해야한다.\n"
   ]
  },
  {
   "cell_type": "markdown",
   "id": "d0412aa8",
   "metadata": {},
   "source": [
    "관계 연산자\n",
    "\n",
    "&nbsp;< : 작다 , 미만  \n",
    "&nbsp;<=: 작거나 같다 , 이하  \n",
    "&nbsp;> : 크다, 초과  \n",
    "&nbsp;>=: 크거나 같다, 이상  \n",
    "&nbsp;==: 같다.  \n",
    "&nbsp;!=: 같지 않다.  \n"
   ]
  },
  {
   "cell_type": "markdown",
   "id": "bee56957",
   "metadata": {},
   "source": [
    "논리 연산자\n",
    "\n",
    "and : 논리곱, 두 조건이 모두 참일 경우에만 참, ~ 이고 ~이면서 , ~중에서   \n",
    "or &nbsp;&nbsp;: 논리합, 두 조건 중에서 한 개 이상 참일 경우에 참, ~ 또는 , ~ 이거나  \n",
    "not : 논리 부정  \n",
    "        <img src=\"./images/pu.png\"></img>\n"
   ]
  },
  {
   "cell_type": "markdown",
   "id": "7260f0cf",
   "metadata": {},
   "source": [
    "연산자 우선순위\n",
    "\n",
    "단항 연산자 => 이상 연산자 => 삼항 연산자 => 대입 연산자 ('='와 같이 사용한다.)  \n",
    "이항 연산자: ** => *,/,//,% => +,- => 관계 연산자 => 논리 연산자   "
   ]
  },
  {
   "cell_type": "code",
   "execution_count": 8,
   "id": "09bf8e26",
   "metadata": {},
   "outputs": [
    {
     "name": "stdout",
     "output_type": "stream",
     "text": [
      "나이를 입력하세요:77\n",
      "<class 'int'>\n",
      "투표권이 있습니다.\n"
     ]
    }
   ],
   "source": [
    "# 나이를 입력받아 투표권이 있나 없나 판단한다.\n",
    "age = int(input('나이를 입력하세요:'))\n",
    "print(type(age))\n",
    "if age >= 18: \n",
    "    print('투표권이 있습니다.')\n",
    "else:\n",
    "    #else 일때 아무것도 실행하지 않을때는 \n",
    "    # pass 를 입력한다\n",
    "    print('투표권이 없습니다.')"
   ]
  },
  {
   "cell_type": "code",
   "execution_count": 31,
   "id": "5e8ca3ac",
   "metadata": {},
   "outputs": [
    {
     "name": "stdout",
     "output_type": "stream",
     "text": [
      "주민번호 13 자리를 \"-\" 없이  입력하세요8304221185600\n",
      "1\n",
      "남자입니다.\n",
      "남자입니다.\n",
      "남자\n",
      "================================================================================\n",
      "남자입니다.\n",
      "남자\n",
      "================================================================================\n",
      "남자\n"
     ]
    }
   ],
   "source": [
    "# 주민등록 번호를 입력받아 성별을 판단한다.\n",
    "jumin = input('주민번호 13 자리를 \"-\" 없이  입력하세요')\n",
    "print(jumin[6])\n",
    "\n",
    "# 문자열로 비교\n",
    "if jumin[6] == '1' : # 2000 년 이후에 태어난 남자의 성별이 모두 여자로 출력된다.\n",
    "    print('남자입니다.')\n",
    "else:\n",
    "     print('여자 입니다.')\n",
    "\n",
    "if jumin[6] == '1' or jumin[6] == '3' or jumin[6] == '5' : # 2000 년 이후에 태어난 남자의 성별이 모두 여자로 출력된다.\n",
    "    print('남자입니다.')\n",
    "else:\n",
    "     print('여자 입니다.')    \n",
    "\n",
    "if jumin[6] in ['1' ,'3', '5']: # in 연산자 <-> not in 연산자\n",
    "    print('남자')\n",
    "else:\n",
    "    print('여자')  \n",
    "      \n",
    "print('='*80)  \n",
    "  \n",
    "# 숫자로 비교  \n",
    "  \n",
    "if int(jumin[6]) == 1 or int(jumin[6]) == 3 or int(jumin[6]) == 5 : # 2000 년 이후에 태어난 남자의 성별이 모두 여자로 출력된다.\n",
    "    print('남자입니다.')\n",
    "else:\n",
    "     print('여자 입니다.')    \n",
    "\n",
    "if int(jumin[6]) in [1 , 3, 5]: # in 연산자 <-> not in 연산자\n",
    "    print('남자')\n",
    "else:\n",
    "    print('여자')  \n",
    "\n",
    "print('='*80)  \n",
    "\n",
    "# 성별이 홀수면 남자 짝수면 여자로 비교  \n",
    "if int(jumin[6])%2 ==1: # in 연산자 <-> not in 연산자\n",
    "    print('남자')\n",
    "else:\n",
    "    print('여자')  \n",
    "    \n",
    "    \n",
    "    \n",
    "    "
   ]
  },
  {
   "cell_type": "code",
   "execution_count": 66,
   "id": "808928b5",
   "metadata": {},
   "outputs": [
    {
     "name": "stdout",
     "output_type": "stream",
     "text": [
      "주민번호 13 자리를 \"-\" 없이  입력하세요8304221185600\n",
      "83\n",
      "83\n",
      "<class 'str'>\n",
      "83\n",
      "<class 'int'>\n",
      "당신의 출생 년도는 1983년이고 나이는40세 입니다.\n",
      "당신의 출생 년도는 1983년 이고 나이는 40 세 입니다. \n",
      "당신의 출생 년도는 1983년 이고 나이는 40 세 입니다. \n",
      "당신의 출생년도는1983년이고 나이는40세 입니다.\n"
     ]
    }
   ],
   "source": [
    "# 주민등록번호를 입력받아 나이를 출력한다.\n",
    "jumin = input('주민번호 13 자리를 \"-\" 없이  입력하세요')\n",
    "print(jumin[0:2])\n",
    "print(jumin[:2])\n",
    "print(type(jumin[:2]))\n",
    "year = int(jumin[:2])\n",
    "print(year)\n",
    "print(type(year))\n",
    "\n",
    "# 성별이 2이하면 1900년대에 그렇치 않으면 2000년대에 태어 났다.\n",
    "'''\n",
    "if jumin[6] <= '2':\n",
    "    # year += year + 1900\n",
    "    # 대입 연산자 \n",
    "    # '='와 같이 사용하는 연산자를 말하며 우선순위가 가장 늦다. =>  += ,-= , *= ,/= ,//= ,%=\n",
    "    year += 1900\n",
    "else :\n",
    "    year += 2000\n",
    "'''\n",
    "print('당신의 출생 년도는 {}년이고 나이는{}세 입니다.'.format(year,2023- year))\n",
    "\n",
    "from datetime import datetime as dt\n",
    "today = dt.now()\n",
    "print('당신의 출생 년도는 %d년 이고 나이는 %d 세 입니다. '% (year,today.year - year))\n",
    "print('당신의 출생 년도는 {}년 이고 나이는 {} 세 입니다. '.format(year,today.year - year))\n",
    "print(f'당신의 출생년도는{year}년이고 나이는{today.year - year}세 입니다.')"
   ]
  },
  {
   "cell_type": "code",
   "execution_count": 59,
   "id": "30160eb6",
   "metadata": {
    "scrolled": true
   },
   "outputs": [
    {
     "name": "stdout",
     "output_type": "stream",
     "text": [
      "2023-07-03 11:23:16.024609\n",
      "년: 2023\n",
      "월: 7\n",
      "일: 3\n",
      "시: 11\n",
      "분: 23\n",
      "초: 16\n",
      "마이크로 초: 24609\n",
      "밀리 초: 24\n",
      "요일: 0\n",
      "요일: 월\n"
     ]
    }
   ],
   "source": [
    "from datetime import datetime as dt\n",
    "today = dt.now()\n",
    "print(today)\n",
    "\n",
    "print('년: {}'.format(today.year))\n",
    "print('월: {}'.format(today.month))\n",
    "print('일: {}'.format(today.day))\n",
    "print('시: {}'.format(today.hour))\n",
    "print('분: {}'.format(today.minute))\n",
    "print('초: {}'.format(today.second))\n",
    "print('마이크로 초: {}'.format(today.microsecond))\n",
    "print('밀리 초: {}'.format(today.microsecond // 1000))\n",
    "#weekday() 메소드로 요일을 숫자로 얻어올 수 있다 . => 월(0) 화(1), 수(2), 목(3),금(4) , 토(5), 일(6)\n",
    "print('요일: {}'.format(today.weekday()))\n",
    "week = ['월' ,'화' ,'수','목','금','토','일']\n",
    "print('요일: {}'.format(week[today.weekday()]))"
   ]
  },
  {
   "cell_type": "code",
   "execution_count": null,
   "id": "ee22c4a0",
   "metadata": {},
   "outputs": [],
   "source": []
  },
  {
   "cell_type": "code",
   "execution_count": null,
   "id": "45877683",
   "metadata": {},
   "outputs": [],
   "source": []
  },
  {
   "cell_type": "code",
   "execution_count": null,
   "id": "ccdb9e47",
   "metadata": {},
   "outputs": [],
   "source": []
  },
  {
   "cell_type": "code",
   "execution_count": null,
   "id": "6650e32b",
   "metadata": {},
   "outputs": [],
   "source": []
  },
  {
   "cell_type": "code",
   "execution_count": null,
   "id": "ffeee361",
   "metadata": {},
   "outputs": [],
   "source": []
  },
  {
   "cell_type": "code",
   "execution_count": null,
   "id": "d23be5b4",
   "metadata": {},
   "outputs": [],
   "source": []
  }
 ],
 "metadata": {
  "kernelspec": {
   "display_name": "Python 3",
   "language": "python",
   "name": "python3"
  },
  "language_info": {
   "codemirror_mode": {
    "name": "ipython",
    "version": 3
   },
   "file_extension": ".py",
   "mimetype": "text/x-python",
   "name": "python",
   "nbconvert_exporter": "python",
   "pygments_lexer": "ipython3",
   "version": "3.6.8"
  }
 },
 "nbformat": 4,
 "nbformat_minor": 5
}
