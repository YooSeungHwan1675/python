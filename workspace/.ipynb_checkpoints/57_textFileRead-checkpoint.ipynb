{
 "cells": [
  {
   "cell_type": "code",
   "execution_count": 21,
   "id": "39384886",
   "metadata": {},
   "outputs": [
    {
     "name": "stdout",
     "output_type": "stream",
     "text": [
      "xcmklvmcxmvklamdsklvmalsdmklmasldmlamsdfmklasdmfklamsdf\n",
      "dclmavmakldmklmascaslckmaslcmklasdmclmacacmalkdscm\n",
      "mm;lm;l;lsadkl;dlasd;klasdl;kasdl;kaksdasd\n",
      "lskldjfslkdfjlkdsjafjdsklf\n",
      "asdfla;skdfl;adfaklsdf\n",
      "adsfnnmslkmcsdc\n",
      "asdlmalsdmfl2412312312\n",
      "3123qadfadsf\n",
      "data5파일에서 읽기 완료\n",
      "[]\n"
     ]
    }
   ],
   "source": [
    "try:\n",
    "    file = open('./data/data5.txt','r')\n",
    "    lines = []\n",
    "    # 텍스트 파일에 저장된 데이터가 몇 줄인지 알수 없으므로 무한 루프를 돌려서 읽는다 .\n",
    "    while True:\n",
    "        # char = file.read() # 텍스트 파일의 데이터를 문자 단위로 읽어온다.\n",
    "        line = file.readline() # 텍스트 파일의 데이터를 1줄씩 읽어온다.\n",
    "        if not line: # 텍스트 파일에서 읽어들인 데이터가 없으면 \n",
    "            break\n",
    "        # print(line, end='')\n",
    "        # print(line.strip())\n",
    "        # readline() 메소드로 데이터를 읽어들인 후 strip() 메소드로 문자열 앞 , 뒤의 불필요한 공백을 제거하는 것이 좋다 .\n",
    "        \n",
    "    file.close()\n",
    "    print('data5파일에서 읽기 완료')\n",
    "except FileNotFoundError:\n",
    "    print('디스크의 파일이 없습니다 .')\n",
    "print(lines)"
   ]
  },
  {
   "cell_type": "code",
   "execution_count": null,
   "id": "1bccd442",
   "metadata": {},
   "outputs": [],
   "source": []
  }
 ],
 "metadata": {
  "kernelspec": {
   "display_name": "Python 3",
   "language": "python",
   "name": "python3"
  },
  "language_info": {
   "codemirror_mode": {
    "name": "ipython",
    "version": 3
   },
   "file_extension": ".py",
   "mimetype": "text/x-python",
   "name": "python",
   "nbconvert_exporter": "python",
   "pygments_lexer": "ipython3",
   "version": "3.6.8"
  }
 },
 "nbformat": 4,
 "nbformat_minor": 5
}
