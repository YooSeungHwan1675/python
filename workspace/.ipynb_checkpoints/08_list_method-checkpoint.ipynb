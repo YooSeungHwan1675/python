{
 "cells": [
  {
   "cell_type": "markdown",
   "id": "84162142",
   "metadata": {},
   "source": [
    "리스트 메소드"
   ]
  },
  {
   "cell_type": "code",
   "execution_count": 11,
   "id": "a569b6b6",
   "metadata": {},
   "outputs": [
    {
     "name": "stdout",
     "output_type": "stream",
     "text": [
      "3\n",
      "================================================================================\n",
      "[1, 2, 3]\n",
      "[1, 2, 3, 4]\n",
      "================================================================================\n",
      "[1, 5, 2, 3, 4]\n",
      "================================================================================\n",
      "[1, 5, 2, 3, 999, 4]\n",
      "[1, 5, 2, 3, 999, 4, 333]\n"
     ]
    }
   ],
   "source": [
    "a = [1,2,3]\n",
    "\n",
    "#len() 함수로 리스트에 저장된 데이터의 개수를 얻어온다.\n",
    "print(len(a))\n",
    "print('='*80)\n",
    "\n",
    "# append(데이터) 메소드로 리스트으 맨 뒤에 데이터를 추가한다.\n",
    "print(a)\n",
    "a.append(4)\n",
    "print(a)\n",
    "print('='*80)\n",
    "\n",
    "# insert(인덱스, 데이터) 메소드로 리스트의 특정 인덱스 위치에 데이터를 삽입한다.\n",
    "a.insert(1,5)\n",
    "print(a)\n",
    "print('='*80)\n",
    "\n",
    "# insert() 메소드와 len() 함수를 사용해서 append() 메소드 효과내기\n",
    "a.insert(-1,999)\n",
    "print(a)\n",
    "a.insert(len(a),333)\n",
    "print(a)"
   ]
  },
  {
   "cell_type": "code",
   "execution_count": 30,
   "id": "b4f8a504",
   "metadata": {},
   "outputs": [
    {
     "name": "stdout",
     "output_type": "stream",
     "text": [
      "[1, 5, 2, 3, 6, 4]\n",
      "[1, 2, 3, 4, 5, 6]\n",
      "================================================================================\n",
      "['d', 'b', 'a', 'c']\n",
      "['a', 'b', 'c', 'd']\n",
      "================================================================================\n",
      "['홍길동', '임꺽정', '장길산', '일지매']\n",
      "['일지매', '임꺽정', '장길산', '홍길동']\n",
      "================================================================================\n",
      "['1', '010', '999', '50']\n",
      "['010', '1', '50', '999']\n",
      "================================================================================\n"
     ]
    }
   ],
   "source": [
    "# sort() 메소드로 리스트에 저장된 데이터를 별도의 설정이 없으면 오름차순(문자열은 가나다순)으로 정렬한다.\n",
    "a= [1,5,2,3,6,4]\n",
    "print(a)\n",
    "a.sort()\n",
    "print(a)\n",
    "print('='*80)\n",
    "\n",
    "b=['d','b','a','c']\n",
    "print(b)\n",
    "b.sort()\n",
    "print(b)\n",
    "print('='*80)\n",
    "\n",
    "c=['홍길동','임꺽정','장길산','일지매']\n",
    "print(c)\n",
    "c.sort()\n",
    "print(c)\n",
    "print('='*80)\n",
    "\n",
    "d= ['1','010','999','50']\n",
    "print(d)\n",
    "d.sort()\n",
    "print(d)\n",
    "print('='*80)"
   ]
  },
  {
   "cell_type": "code",
   "execution_count": 31,
   "id": "467b6d34",
   "metadata": {},
   "outputs": [
    {
     "name": "stdout",
     "output_type": "stream",
     "text": [
      "[1, 5, 2, 3, 6, 4]\n",
      "[6, 5, 4, 3, 2, 1]\n",
      "================================================================================\n",
      "['d', 'b', 'a', 'c']\n",
      "['d', 'c', 'b', 'a']\n",
      "================================================================================\n",
      "['홍길동', '임꺽정', '장길산', '일지매']\n",
      "['홍길동', '장길산', '임꺽정', '일지매']\n",
      "================================================================================\n",
      "['1', '010', '999', '50']\n",
      "['999', '50', '1', '010']\n",
      "================================================================================\n"
     ]
    }
   ],
   "source": [
    "# sort() 메소드에 reverse=True 옵션을 지정하면 내림차순(문자열은 다나가) 순으로 정렬한다.\n",
    "a= [1,5,2,3,6,4]\n",
    "print(a)\n",
    "a.sort(reverse=True)\n",
    "print(a)\n",
    "print('='*80)\n",
    "\n",
    "b=['d','b','a','c']\n",
    "print(b)\n",
    "b.sort(reverse=True)\n",
    "print(b)\n",
    "print('='*80)\n",
    "\n",
    "c=['홍길동','임꺽정','장길산','일지매']\n",
    "print(c)\n",
    "c.sort(reverse=True)\n",
    "print(c)\n",
    "print('='*80)\n",
    "\n",
    "d= ['1','010','999','50']\n",
    "print(d)\n",
    "d.sort(reverse=True)\n",
    "print(d)\n",
    "print('='*80)"
   ]
  },
  {
   "cell_type": "code",
   "execution_count": 39,
   "id": "0c54aab1",
   "metadata": {},
   "outputs": [
    {
     "name": "stdout",
     "output_type": "stream",
     "text": [
      "[1, 5, 2, 3, 6, 4]\n",
      "[1, 2, 3, 4, 5, 6]\n",
      "[6, 5, 4, 3, 2, 1]\n"
     ]
    }
   ],
   "source": [
    "# reverse=True 옵션이 기억나지 않으면 오름 차순으로 정렬하고 reverse() 메소드로 결과를 뒤집으면된다.\n",
    "a = [1,5,2,3,6,4]\n",
    "print(a)\n",
    "a.sort()\n",
    "print(a)\n",
    "a.reverse()\n",
    "print(a)"
   ]
  },
  {
   "cell_type": "code",
   "execution_count": 44,
   "id": "de4b76aa",
   "metadata": {},
   "outputs": [
    {
     "name": "stdout",
     "output_type": "stream",
     "text": [
      "[1, 5, 2, 3, 6, 4]\n",
      "[1, 2, 3, 4, 5, 6]\n",
      "[6, 5, 4, 3, 2, 1]\n"
     ]
    }
   ],
   "source": [
    "# reverse=True 옵션도 기억나지 않고 reverse() 메소드도 기억나지 않으면[::-1]로 슬라이싱 하면된다.\n",
    "a=[1,5,2,3,6,4]\n",
    "print(a)\n",
    "a.sort()\n",
    "print(a)\n",
    "a= a[::-1]\n",
    "print(a)"
   ]
  },
  {
   "cell_type": "code",
   "execution_count": 45,
   "id": "6efaf242",
   "metadata": {},
   "outputs": [
    {
     "ename": "TypeError",
     "evalue": "'<' not supported between instances of 'str' and 'int'",
     "output_type": "error",
     "traceback": [
      "\u001b[1;31m---------------------------------------------------------------------------\u001b[0m",
      "\u001b[1;31mTypeError\u001b[0m                                 Traceback (most recent call last)",
      "\u001b[1;32m<ipython-input-45-7fbb93acfb41>\u001b[0m in \u001b[0;36m<module>\u001b[1;34m\u001b[0m\n\u001b[0;32m      1\u001b[0m \u001b[1;31m# 정렬할 데이터가 저장된 리스트에 2가지 이상의 데이터 타입이 존재하면 에러가 발생된다.\u001b[0m\u001b[1;33m\u001b[0m\u001b[1;33m\u001b[0m\u001b[1;33m\u001b[0m\u001b[0m\n\u001b[0;32m      2\u001b[0m \u001b[0ma\u001b[0m \u001b[1;33m=\u001b[0m \u001b[1;33m[\u001b[0m\u001b[1;36m1\u001b[0m\u001b[1;33m,\u001b[0m\u001b[1;34m'a'\u001b[0m\u001b[1;33m,\u001b[0m\u001b[1;36m2\u001b[0m\u001b[1;33m,\u001b[0m\u001b[1;34m'b'\u001b[0m\u001b[1;33m]\u001b[0m\u001b[1;33m\u001b[0m\u001b[1;33m\u001b[0m\u001b[0m\n\u001b[1;32m----> 3\u001b[1;33m \u001b[0ma\u001b[0m\u001b[1;33m.\u001b[0m\u001b[0msort\u001b[0m\u001b[1;33m(\u001b[0m\u001b[1;33m)\u001b[0m\u001b[1;33m\u001b[0m\u001b[1;33m\u001b[0m\u001b[0m\n\u001b[0m",
      "\u001b[1;31mTypeError\u001b[0m: '<' not supported between instances of 'str' and 'int'"
     ]
    }
   ],
   "source": [
    "# 정렬할 데이터가 저장된 리스트에 2가지 이상의 데이터 타입이 존재하면 에러가 발생된다.\n",
    "a = [1,'a',2,'b']\n",
    "a.sort()"
   ]
  },
  {
   "cell_type": "code",
   "execution_count": 52,
   "id": "40998a55",
   "metadata": {},
   "outputs": [
    {
     "name": "stdout",
     "output_type": "stream",
     "text": [
      "[1, 5, 2, 3, 6, 4]\n",
      "[1, 2, 3, 4, 5, 6]\n",
      "[1, 5, 2, 3, 6, 4]\n",
      "[1, 2, 3, 4, 5, 6]\n",
      "[6, 5, 4, 3, 2, 1]\n"
     ]
    }
   ],
   "source": [
    "# sorted() 함수를 사용해도 리스트에 저장된 데이터의 정렬이 가능하다 .\n",
    "# sort() 메소드와 sorted() 함수의 차이점은 sort() 메소드는 메소드가 실행되는 리스트의 내용이 수정되고 \n",
    "# sorted() 함수는 함수가 실행된 결과를 리턴하므로 함수가 실행되는 리스트의 내용이 수정되지 않는다 . \n",
    "a = [1,5,2,3,6,4]\n",
    "print(a)\n",
    "print(sorted(a))\n",
    "print(a)\n",
    "a= sorted(a)\n",
    "print(a)\n",
    "a= sorted(a,reverse=True)\n",
    "print(a)"
   ]
  },
  {
   "cell_type": "code",
   "execution_count": 54,
   "id": "fa6842c3",
   "metadata": {},
   "outputs": [
    {
     "name": "stdout",
     "output_type": "stream",
     "text": [
      "2\n"
     ]
    },
    {
     "ename": "ValueError",
     "evalue": "6 is not in list",
     "output_type": "error",
     "traceback": [
      "\u001b[1;31m---------------------------------------------------------------------------\u001b[0m",
      "\u001b[1;31mValueError\u001b[0m                                Traceback (most recent call last)",
      "\u001b[1;32m<ipython-input-54-71c69287f86f>\u001b[0m in \u001b[0;36m<module>\u001b[1;34m\u001b[0m\n\u001b[0;32m      3\u001b[0m \u001b[0mprint\u001b[0m\u001b[1;33m(\u001b[0m\u001b[0ma\u001b[0m\u001b[1;33m.\u001b[0m\u001b[0mindex\u001b[0m\u001b[1;33m(\u001b[0m\u001b[1;36m3\u001b[0m\u001b[1;33m)\u001b[0m\u001b[1;33m)\u001b[0m\u001b[1;33m\u001b[0m\u001b[1;33m\u001b[0m\u001b[0m\n\u001b[0;32m      4\u001b[0m \u001b[1;31m# 인수로 지정된 데이터가 리스트에 없으면 에러가 발생한다.\u001b[0m\u001b[1;33m\u001b[0m\u001b[1;33m\u001b[0m\u001b[1;33m\u001b[0m\u001b[0m\n\u001b[1;32m----> 5\u001b[1;33m \u001b[0mprint\u001b[0m\u001b[1;33m(\u001b[0m\u001b[0ma\u001b[0m\u001b[1;33m.\u001b[0m\u001b[0mindex\u001b[0m\u001b[1;33m(\u001b[0m\u001b[1;36m6\u001b[0m\u001b[1;33m)\u001b[0m\u001b[1;33m)\u001b[0m\u001b[1;33m\u001b[0m\u001b[1;33m\u001b[0m\u001b[0m\n\u001b[0m",
      "\u001b[1;31mValueError\u001b[0m: 6 is not in list"
     ]
    }
   ],
   "source": [
    "# index() 메소드로 리스트의 데이터 요소 중에서 특정 데이터가 최초로 출현하는 인덱스 값을 얻어올 수 있다.\n",
    "a= [1,2,3,1,3,1,4,1,5]\n",
    "print(a.index(3))\n",
    "# 인수로 지정된 데이터가 리스트에 없으면 에러가 발생한다.\n",
    "print(a.index(6)) # 에러"
   ]
  },
  {
   "cell_type": "code",
   "execution_count": null,
   "id": "77fae379",
   "metadata": {},
   "outputs": [],
   "source": [
    "# remove() 메소드로 인수로 지정한 첫 번쨰 데이터를 리스트에서 제거한다.\n",
    "\n"
   ]
  },
  {
   "cell_type": "code",
   "execution_count": null,
   "id": "1ed18297",
   "metadata": {},
   "outputs": [],
   "source": []
  },
  {
   "cell_type": "code",
   "execution_count": null,
   "id": "d01a6982",
   "metadata": {},
   "outputs": [],
   "source": []
  },
  {
   "cell_type": "code",
   "execution_count": null,
   "id": "3f3bb0b2",
   "metadata": {},
   "outputs": [],
   "source": []
  },
  {
   "cell_type": "code",
   "execution_count": null,
   "id": "4adc371c",
   "metadata": {},
   "outputs": [],
   "source": []
  },
  {
   "cell_type": "code",
   "execution_count": null,
   "id": "ba27fbc4",
   "metadata": {},
   "outputs": [],
   "source": []
  },
  {
   "cell_type": "code",
   "execution_count": null,
   "id": "b74dca5c",
   "metadata": {},
   "outputs": [],
   "source": []
  },
  {
   "cell_type": "code",
   "execution_count": null,
   "id": "dca483c7",
   "metadata": {},
   "outputs": [],
   "source": []
  },
  {
   "cell_type": "code",
   "execution_count": null,
   "id": "fcdae9c6",
   "metadata": {},
   "outputs": [],
   "source": []
  },
  {
   "cell_type": "code",
   "execution_count": null,
   "id": "33796631",
   "metadata": {},
   "outputs": [],
   "source": []
  }
 ],
 "metadata": {
  "kernelspec": {
   "display_name": "Python 3",
   "language": "python",
   "name": "python3"
  },
  "language_info": {
   "codemirror_mode": {
    "name": "ipython",
    "version": 3
   },
   "file_extension": ".py",
   "mimetype": "text/x-python",
   "name": "python",
   "nbconvert_exporter": "python",
   "pygments_lexer": "ipython3",
   "version": "3.6.8"
  }
 },
 "nbformat": 4,
 "nbformat_minor": 5
}
