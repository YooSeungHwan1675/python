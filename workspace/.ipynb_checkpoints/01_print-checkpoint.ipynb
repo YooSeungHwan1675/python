{
 "cells": [
  {
   "cell_type": "code",
   "execution_count": null,
   "id": "261671da",
   "metadata": {},
   "outputs": [],
   "source": []
  },
  {
   "cell_type": "markdown",
   "id": "b7b25a06",
   "metadata": {},
   "source": [
    "유용한 단축키  \n",
    "  \n",
    "자동 완성: tab  \n",
    "코드실행: ctrl+enter => 셸 실행 , shift + enter => 셸실행후 다음 셀로 이동, 다음셀이 없으면 빈 셀 추가  \n",
    "함수 설명 보기: shift + tab  \n",
    "현재 셀 위에 빈 셀 삽입 : a  \n",
    "현재 셀 아래에 빈 셀 삽입 : b  \n",
    "현재 셀 삭제: d   \n",
    "현재 셀 복사 : c  \n",
    "현재 셀 자르기: x  \n",
    "현재 셀 아래에 복사 또는 잘라낸 셀 붙이기: v  \n",
    "코드 셀을 마크 다운 셀로 바꾸기 : m  \n",
    "마크 다운 셀을 코드 셀로 바꾸기: y  "
   ]
  },
  {
   "cell_type": "code",
   "execution_count": 12,
   "id": "06cc1c1b",
   "metadata": {
    "scrolled": true
   },
   "outputs": [
    {
     "name": "stdout",
     "output_type": "stream",
     "text": [
      "a\n"
     ]
    }
   ],
   "source": [
    "print('a')"
   ]
  },
  {
   "cell_type": "code",
   "execution_count": 11,
   "id": "c04b4084",
   "metadata": {},
   "outputs": [],
   "source": [
    "# '#' 으로 시작하면 1줄 주석 => 컴파일러나 ( 번역)나 인터프리터( 통역)가 반격하지 않는다 => 코드 설명 \n",
    "#  '''  부터 ''' 사이에 코딩하면 범위 주석을 지정할 수 있다."
   ]
  },
  {
   "cell_type": "code",
   "execution_count": 28,
   "id": "f0dccfaa",
   "metadata": {},
   "outputs": [
    {
     "data": {
      "image/png": "[encoded data removed]",
      "text/plain": [
       "<IPython.core.display.Image object>"
      ]
     },
     "execution_count": 28,
     "metadata": {
      "image/png": {
       "width": "200"
      }
     },
     "output_type": "execute_result"
    }
   ],
   "source": [
    "# jupyter notebook에 코드로 image 넣기\n",
    "from IPython.display import Image\n",
    "Image('./images/python.png', width='200')"
   ]
  },
  {
   "cell_type": "markdown",
   "id": "8edeafe4",
   "metadata": {},
   "source": [
    "마크다운 이미지 넣기\n",
    "<img src=\"./images/python.png\"></img>\n",
    "       "
   ]
  },
  {
   "cell_type": "code",
   "execution_count": 35,
   "id": "c38a56b3",
   "metadata": {},
   "outputs": [
    {
     "name": "stdout",
     "output_type": "stream",
     "text": [
      "hello Python\n",
      "안녕 파이썬\n",
      "제2외국어를 배운 호랑이가 '야옹'했습니다\n",
      "제2외국어를 배운 고양이가 \"야옹\"했습니다\n",
      "제2외국어를 배운 칡이 '야옹'했습니다\n",
      "제2외국어를 배운 칡이 \"야옹\"했습니다\n"
     ]
    }
   ],
   "source": [
    "# 파이썬은 문자열 데이터를 표현할 때 큰 따옴표나 작은 따옴표로 묶어주면된다 => 짝만 맞추면 된다.\n",
    "# print() 함수는 별도의 설정을 하지않으면 ()안의 내용을 출력하고 줄을 바꾼다.\n",
    "print('hello Python')\n",
    "print(\"안녕 파이썬\")\n",
    "print(\"제2외국어를 배운 호랑이가 '야옹'했습니다\")\n",
    "print('제2외국어를 배운 고양이가 \"야옹\"했습니다')\n",
    "print('제2외국어를 배운 칡이 \\'야옹\\'했습니다')\n",
    "print('제2외국어를 배운 칡이 \\\"야옹\\\"했습니다')"
   ]
  },
  {
   "cell_type": "code",
   "execution_count": 44,
   "id": "a26005e8",
   "metadata": {},
   "outputs": [
    {
     "name": "stdout",
     "output_type": "stream",
     "text": [
      "Hello\n",
      "Python: 안뇽 파이썬\n"
     ]
    }
   ],
   "source": [
    "# print() 함수로 출력 후 줄을 변경 하지 않으려면 end 옵션을 사용한다.\n",
    "# end 옵션은 print() 함수로 출력한 후 출력한후 출력한 내용을 지정한다.\n",
    "# end 옵션을 생략하면 '\\n'이 기본값으로 사용된다. '\\n' => new line => 줄 바꾸기.\n",
    "print('Hello\\nPython', end=': ')\n",
    "print('안뇽 파이썬')"
   ]
  },
  {
   "cell_type": "code",
   "execution_count": 50,
   "id": "e83ee917",
   "metadata": {},
   "outputs": [
    {
     "name": "stdout",
     "output_type": "stream",
     "text": [
      "hello python, 안녕 파이썬\n",
      "hello python|안녕 파이썬\n",
      "hello python 안녕 파이썬\n",
      "hello python~(^^)안녕 파이썬\n"
     ]
    }
   ],
   "source": [
    "# print() 함수로 2개 이상의 데이터를 출력하려면 ','로 구분해서 출력하면 된다.\n",
    "# print() 함수로 ',' 로 데이터를 구분하면 sep 옵션에서 지정한 구분자가 데이터와 데이터사이에 출력된다.\n",
    "# sep 옵션을 생략하면 공백 1칸이 기본값으로 사용된다.\n",
    "print('hello python', '안녕 파이썬', sep=', ')\n",
    "print('hello python', '안녕 파이썬', sep='|')\n",
    "print('hello python', '안녕 파이썬', sep=' ')\n",
    "print('hello python', '안녕 파이썬', sep='~(^^)')"
   ]
  },
  {
   "cell_type": "code",
   "execution_count": 53,
   "id": "bcd8920c",
   "metadata": {},
   "outputs": [
    {
     "name": "stdout",
     "output_type": "stream",
     "text": [
      "13\n",
      "58\n"
     ]
    }
   ],
   "source": [
    "print(5 +8) # 숫자와 숫자 사이에 '+'사용하면 덧셈 연산이 실행된다\n",
    "print('5'+'8') # 문자열과 문자열 사이에 '+'연산자 를 사용하면 문자열 데이터를 연결한다.\\\n",
    "# 파이썬은 숫자와 숫자를 '+' 연산자를 사용하면 덧셈 연산을 실행하고 문자열과 문자열에 '+' 연산을 사용하면 연결하지만\n",
    "# 숫자와 문자열 또는 문자열과 숫자 사이에 '+' 연산자를 사용하면 에러가 발생된다.\n",
    "# print(5+'8') # 에러\n",
    "# print('5'+8) # 에러"
   ]
  },
  {
   "cell_type": "code",
   "execution_count": 55,
   "id": "6229eb51",
   "metadata": {},
   "outputs": [
    {
     "name": "stdout",
     "output_type": "stream",
     "text": [
      "13\n",
      "58\n"
     ]
    }
   ],
   "source": [
    "print(int('5')+8) # int 함수는 인수로 지정된 데이터를 정수로 변환한다.\n",
    "print(str(5)+'8') # str() 함수는 인수로 지정된 데이터를 문자열로 변환한다"
   ]
  },
  {
   "cell_type": "code",
   "execution_count": 59,
   "id": "91fd53a5",
   "metadata": {},
   "outputs": [
    {
     "name": "stdout",
     "output_type": "stream",
     "text": [
      "================================================================================\n",
      "320\n"
     ]
    }
   ],
   "source": [
    "# '*' 연산자를 사용하면 특정 문자열을 지정한 횟수만큼 반복해서 출력한다\n",
    "print('='*80)\n",
    "print(4*80)"
   ]
  },
  {
   "cell_type": "markdown",
   "id": "22a82239",
   "metadata": {},
   "source": [
    "'%'와 서식 문자를 사용해서 출력하기  \n",
    "서식 문자  \n",
    "d(정수), f(실수), s(문자열)를 사용해서 출력 서식을 지정할 수 있고 출력 서식을 제외한 나머지 문자들은 그대로 출력된다.  \n",
    "  \n",
    "출력 서식의 형식    \n",
    "%[-][0][n][.m]서식문자 => []안의 내용은 생략할 수 있다.  \n",
    "n: 전체 자리수 , 전체 자리수가 지정되면 데이터는 오른쪽으로 정렬되서 출력된다.  \n",
    "-: 전체 자리수가 지정된경우 데이터를 왼쪽으로 정렬해서 출력된다.  \n",
    "0: 전체 자리수가 지정된 경우 숫자 왼쪽의 남는 자리를 '0'이 채워져 출력 된다.  => 문자열일 경우 무시된다.\n",
    ".m: 실수를 출력할 경우 소수점 아래 자리수를 지정한다.\n"
   ]
  },
  {
   "cell_type": "code",
   "execution_count": 62,
   "id": "9840d3c3",
   "metadata": {},
   "outputs": [
    {
     "name": "stdout",
     "output_type": "stream",
     "text": [
      "100\n",
      "1\n",
      "10000\n"
     ]
    }
   ],
   "source": [
    "print(100)\n",
    "print(1)\n",
    "print(10000)"
   ]
  },
  {
   "cell_type": "markdown",
   "id": "a3d35508",
   "metadata": {},
   "source": [
    "print('출력 서식', % 출력할 데이터) => 출력할 데이터가 1개일경우"
   ]
  },
  {
   "cell_type": "code",
   "execution_count": 75,
   "id": "544655e6",
   "metadata": {},
   "outputs": [
    {
     "name": "stdout",
     "output_type": "stream",
     "text": [
      "  100\n",
      "    1\n",
      "2    \n",
      "00002\n",
      "00003\n",
      "10000\n"
     ]
    }
   ],
   "source": [
    "print('%5d' % 100)\n",
    "print('%5d' % 1)\n",
    "print('%-5d' % 2)\n",
    "# 파이썬은 1줄에 1문장을 코딩을 원칙으로 하지만 부득이하게 1줄에 2문장 이상을 코딩해야한다면 문장과 문장을 ';'으로 구분한다.\n",
    "print('%05d' % 3);print('%5d' % 10000)"
   ]
  },
  {
   "cell_type": "code",
   "execution_count": 82,
   "id": "25e45be5",
   "metadata": {},
   "outputs": [
    {
     "name": "stdout",
     "output_type": "stream",
     "text": [
      "sadldfjasdjfjlamlfjcawemcfㅁㄴㅇ리ㅓㅊㅁ더럼,ㅈ댵러,ㅐ먖ㄷㄹ,첨쟈ㅓㅇㄹ,ㅑㅑㅐ머ㅐㅁㄴ얾ㅇ러ㅏ몬아리먼ㅇ로만여료ㅑㅈ됴랴투ㅑ져됴랴채ㅕ묘뎌ㅑㅛㅑㅐㅕㅈ댜교ㅑㅕㅛㅂㅈ댜겨ㅛㅑㅕㅂㅈ됴ㅑ겨ㅛㅑㅕㅈ됴갸\n",
      "sadldfjasdjfjlamlfjcawemcfㅁㄴㅇ리ㅓㅊㅁ더럼,ㅈ댵러,ㅐ먖ㄷㄹ,첨쟈ㅓㅇㄹ,ㅑㅑㅐ머ㅐㅁㄴ얾ㅇ러ㅏ몬아리먼ㅇ로만여료ㅑㅈ됴랴투ㅑ져됴랴채ㅕ묘뎌ㅑㅛㅑㅐㅕㅈ댜교ㅑㅕㅛㅂㅈ댜겨ㅛㅑㅕㅂㅈ됴ㅑ겨ㅛㅑㅕㅈ됴갸\n"
     ]
    }
   ],
   "source": [
    "# 문장이 길어서 1줄의 범위를 넘어갈 경우 () 안에서는 '+' 연산자로 연결해서 출력하면 1줄로 인식된다.\n",
    "print('sadldfjasdjfjlamlfjcawemcfㅁㄴㅇ리ㅓㅊㅁ더럼,ㅈ댵러,ㅐ먖ㄷㄹ,첨쟈ㅓㅇㄹ,ㅑㅑㅐ머ㅐㅁㄴ얾ㅇ러ㅏ몬아리먼ㅇ로만여료ㅑㅈ됴'+\n",
    "      '랴투ㅑ져됴랴채ㅕ묘뎌ㅑㅛㅑㅐㅕㅈ댜교ㅑㅕㅛㅂㅈ댜겨ㅛㅑㅕㅂㅈ됴ㅑ겨ㅛㅑㅕㅈ됴갸')\n",
    "# 문장이 길어서 부득이하게 2줄 이상으로 코딩해야 한다면 끝에 '\\'를 입력하면 1문장으로 인식된다.\n",
    "string = 'sadldfjasdjfjlamlfjcawemcfㅁㄴㅇ리ㅓㅊㅁ더럼,ㅈ댵러,ㅐ먖ㄷㄹ,첨쟈ㅓㅇㄹ,ㅑㅑㅐ머ㅐㅁㄴ얾ㅇ러ㅏ몬아리먼ㅇ로만여료ㅑㅈ됴' \\\n",
    "      '랴투ㅑ져됴랴채ㅕ묘뎌ㅑㅛㅑㅐㅕㅈ댜교ㅑㅕㅛㅂㅈ댜겨ㅛㅑㅕㅂㅈ됴ㅑ겨ㅛㅑㅕㅈ됴갸'\n",
    "print(string)"
   ]
  },
  {
   "cell_type": "code",
   "execution_count": null,
   "id": "e14f7f3e",
   "metadata": {},
   "outputs": [],
   "source": [
    "print('abc')\n",
    "print('a')\n",
    "print('abcde')"
   ]
  },
  {
   "cell_type": "code",
   "execution_count": 85,
   "id": "268dea56",
   "metadata": {},
   "outputs": [
    {
     "name": "stdout",
     "output_type": "stream",
     "text": [
      "  abc\n",
      "    a\n",
      "a    \n",
      "    a\n",
      "abcde\n"
     ]
    }
   ],
   "source": [
    "print('%5s' % 'abc')\n",
    "print('%5s' % 'a')\n",
    "print('%-5s' % 'a')\n",
    "print('%05s' % 'a')# c /c++은 0이 출력되고 Java는 에러가 발생되고 python은 무시한다.\n",
    "print('%5s' %'abcde')"
   ]
  },
  {
   "cell_type": "code",
   "execution_count": 87,
   "id": "5d6cc241",
   "metadata": {},
   "outputs": [
    {
     "name": "stdout",
     "output_type": "stream",
     "text": [
      "123.44\n",
      "123.46\n",
      "123.40\n"
     ]
    }
   ],
   "source": [
    "print('%6.2f' % 123.44)\n",
    "print('%6.2f' % 123.456)\n",
    "print('%6.2f' % 123.4)"
   ]
  },
  {
   "cell_type": "markdown",
   "id": "573ffd7c",
   "metadata": {},
   "source": [
    "print('출력 서식' %(출력할 데이터, ...)) => 출력할 데이터가 2개 이상일 경우 \n",
    "서식을 지정해 출력할 데이터가 2건 이상이라면 출력할 데이터를 반드시 () 로 묶어야한다."
   ]
  },
  {
   "cell_type": "code",
   "execution_count": 100,
   "id": "99323af2",
   "metadata": {},
   "outputs": [
    {
     "name": "stdout",
     "output_type": "stream",
     "text": [
      "5 + 3 =8\n",
      "5 - 3 =2\n",
      "5 * 3 =15\n",
      "5 / 3 =1.666667\n",
      "5 / 3 =1\n",
      "5 // 3 = 1\n",
      "5 // 3 = 1.000000\n",
      "5 % 3 = 2\n",
      "2의 10 승 =1024\n",
      "루트 2 = 1.414214\n"
     ]
    }
   ],
   "source": [
    "print('%d + %d =%d' % (5, 3, 5 + 3)) # 덧셈\n",
    "print('%d - %d =%d' % (5, 3, 5 - 3)) # 뺄셈\n",
    "print('%d * %d =%d' % (5, 3, 5 * 3)) # 곱셈\n",
    "# 파이썬은 ' /'연산자로 나눗셈을 하면 소수점 아래 까지 계산이된다.\n",
    "# '/' 연산의 결과는 실수가 나오지만 출력서식이 %d(정수)로 지정되서정수만 출력된다.\n",
    "print('%d / %d =%f' % (5, 3, 5 / 3)) # 실수 나눗셈\n",
    "print('%d / %d =%d' % (5, 3, 5 / 3)) # 실수 나눗셈\n",
    "# 파이썬은 '//' 연산자로 나눗셈을 하면 몫만 계산된다.\n",
    "print('%d // %d = %d' % (5,3,5 //3)) # 정수 나눗셈\n",
    "print('%d // %d = %f' % (5,3,5//3)) # 정수 나눗셈\n",
    "# 출력 서식을 지정 할 떄 '%' 문자 자체를 출력하려면 연속해서 2개를 써야한다.\n",
    "print('%d %% %d = %d' % ( 5,3,5%3)) # 나머지\n",
    "print('%d의 %d 승 =%d' % (2,10, 2**10)) # 정수 나눗셈\n",
    "print('루트 %d = %f'% (2,2 **0.5)) # 제곱근"
   ]
  },
  {
   "cell_type": "code",
   "execution_count": 104,
   "id": "ca02551a",
   "metadata": {},
   "outputs": [
    {
     "name": "stdout",
     "output_type": "stream",
     "text": [
      "2의 10 승 =1024\n",
      "루트 2 = 1.414214\n"
     ]
    }
   ],
   "source": [
    "import math # 수학에 관련된 함수를 사용하려면 math 모듈을 import 시킨다.\n",
    "print('%d의 %d 승 =%d' % (2,10, math.pow(2,10))) # 정수 나눗셈\n",
    "print('루트 %d = %f'% (2,math.pow(2,0.5))) # 제곱근"
   ]
  },
  {
   "cell_type": "markdown",
   "id": "a250b820",
   "metadata": {},
   "source": [
    "산술 연산자 우선순위 : () -> ** -> *,/,//,% -> +, -"
   ]
  },
  {
   "cell_type": "markdown",
   "id": "c6f1eecd",
   "metadata": {},
   "source": [
    "{}와 format() 메소드를 사용한 출력 서식 지정\n",
    "\n",
    "'%'로 서식을 지정할 때는 %d, %f ,%s위치에 데이터가 대입되어 출력되었지만 {}를 사용하면{}에 데이터가 대입되서 출력된다."
   ]
  },
  {
   "cell_type": "code",
   "execution_count": 112,
   "id": "f0fd5354",
   "metadata": {},
   "outputs": [
    {
     "name": "stdout",
     "output_type": "stream",
     "text": [
      "5+3 =8\n",
      "5-3 =2\n",
      "5*3 =15\n",
      "5/3 =1.6666666666666667\n",
      "5//3 =1\n",
      "5/3 =2\n",
      "2의10승 =1024\n",
      "루트2 =1.4142135623730951\n"
     ]
    }
   ],
   "source": [
    "print('{}+{} ={}'.format(5,3,5+3))\n",
    "print('{}-{} ={}'.format(5,3,5-3))\n",
    "print('{}*{} ={}'.format(5,3,5*3))\n",
    "print('{}/{} ={}'.format(5,3,5/3))\n",
    "print('{}//{} ={}'.format(5,3,5//3))\n",
    "print('{}/{} ={}'.format(5,3,5%3))\n",
    "print('{}의{}승 ={}'.format(2,10,2**10))\n",
    "print('루트{} ={}'.format(2,2 ** 0.5))"
   ]
  },
  {
   "cell_type": "markdown",
   "id": "fd8925df",
   "metadata": {},
   "source": [
    "format() 메소드와 출력할 데이터의 인덱스를 사용해 출력하기 => 인덱스는 0부터 시작된다."
   ]
  },
  {
   "cell_type": "code",
   "execution_count": 115,
   "id": "1c3e212b",
   "metadata": {},
   "outputs": [
    {
     "name": "stdout",
     "output_type": "stream",
     "text": [
      "홍길동 바보\n",
      "홍길동\n"
     ]
    }
   ],
   "source": [
    "print('{} {}'.format('홍길동','바보'))\n",
    "# 인덱스를 지정하지 않은 상태에서 아래와 같이 {}가 출력할 데이터 보다 많으면 에러가 발생된다.\n",
    "# print('{} {} {}'.format('홍길동' , '바보'))# 에러\n",
    "#{}가 모자라면 에러는 발생되지않고 출력되면 남는 데이터는 무시된다.\n",
    "print('{}'.format('홍길동','바보'))"
   ]
  },
  {
   "cell_type": "code",
   "execution_count": 117,
   "id": "282f7ef1",
   "metadata": {},
   "outputs": [
    {
     "name": "stdout",
     "output_type": "stream",
     "text": [
      "홍길동 바보\n",
      "바보 홍길동\n",
      "홍길동 바보 홍길동\n"
     ]
    }
   ],
   "source": [
    "print('{0} {1}'.format('홍길동','바보'))\n",
    "print('{1} {0}'.format('홍길동' , '바보'))\n",
    "# {}에 출력할 데이터의 인덱스를 지정하면 데이터와 {}의 개수가다르더라도 인덱스 범위만 벗어나지않으면 정상 출력된다.\n",
    "print('{0} {1} {0}'.format('홍길동', '바보'))\n",
    "# {}에 지정한 인덱스가 인덱스의 범위를 벗어나면 에러가 발생된다.\n",
    "# print('{0} {1} {2}'.format('홍길동' '바보')) #에러\n",
    "# print('{0} {1}'.format('홍길동', '바보')) # 에러"
   ]
  },
  {
   "cell_type": "markdown",
   "id": "bf0961b7",
   "metadata": {},
   "source": [
    "{인덱스:출력서식} => 인덱스는 생략할 수 있지만 ':'는 생략하면 안되고 출력 서식에 '%'는 사용하지 않는다."
   ]
  },
  {
   "cell_type": "code",
   "execution_count": 128,
   "id": "b3da0062",
   "metadata": {},
   "outputs": [
    {
     "name": "stdout",
     "output_type": "stream",
     "text": [
      "        멜론는(은)   15000 원입니다.\n",
      "멜론는(은) 15000 원입니다.\n",
      "멜론는(은) 15000 원입니다.\n",
      "멜론        는(은)   15000 원입니다.\n",
      "멜론        는(은)   15000 원입니다.\n",
      "멜론        는(은)  15,000 원입니다.\n",
      "멜론        는(은) 1500000.000% 원입니다.\n",
      "멜론        는(은) 1,500,000.000% 원입니다.\n"
     ]
    }
   ],
   "source": [
    "print('%10s는(은) %7d 원입니다.' % ('멜론',15000))\n",
    "print('{}는(은) {} 원입니다.' .format('멜론',15000))\n",
    "print('{0}는(은) {1} 원입니다.' .format('멜론',15000))\n",
    "print('{0:10s}는(은) {1:7d} 원입니다.' .format('멜론',15000))\n",
    "print('{:10s}는(은) {:7d} 원입니다.' .format('멜론',15000))\n",
    "print('{:10s}는(은) {:7,d} 원입니다.' .format('멜론',15000))\n",
    "print('{:10s}는(은) {:.3%} 원입니다.' .format('멜론',15000))\n",
    "print('{:10s}는(은) {:,.3%} 원입니다.' .format('멜론',15000))"
   ]
  },
  {
   "cell_type": "code",
   "execution_count": 134,
   "id": "93c36cbe",
   "metadata": {},
   "outputs": [
    {
     "name": "stdout",
     "output_type": "stream",
     "text": [
      "멜론________는(은)   15000원입니다.\n",
      "____멜론____는(은)   15000원입니다.\n",
      "________멜론는(은)   15000원입니다.\n"
     ]
    }
   ],
   "source": [
    "# '<', '^' , '>' 를 사용해서 문자열 정렬 방식을 지정할 수 있다. ='<'가 기본값으로 상용된다.\n",
    "#print('{:_10s}는(은) {:7d}원입니다.'.format('멜론',15000))\n",
    "print('{:_<10s}는(은) {:7d}원입니다.'.format('멜론',15000))\n",
    "print('{:_^10s}는(은) {:7d}원입니다.'.format('멜론',15000))\n",
    "print('{:_>10s}는(은) {:7d}원입니다.'.format('멜론',15000))"
   ]
  },
  {
   "cell_type": "code",
   "execution_count": 135,
   "id": "312dc180",
   "metadata": {},
   "outputs": [
    {
     "name": "stdout",
     "output_type": "stream",
     "text": [
      "홍길동님은 20 살입니다.\n"
     ]
    }
   ],
   "source": [
    "# f 접두어  사용한 출력 => 파이썬 3.6에서 등장\n",
    "name = '홍길동'\n",
    "age = 20\n",
    "print(f'{name}님은 {age} 살입니다.')"
   ]
  },
  {
   "cell_type": "code",
   "execution_count": null,
   "id": "94c1e5ca",
   "metadata": {},
   "outputs": [],
   "source": []
  },
  {
   "cell_type": "code",
   "execution_count": null,
   "id": "79af17f6",
   "metadata": {},
   "outputs": [],
   "source": []
  },
  {
   "cell_type": "code",
   "execution_count": null,
   "id": "b36e6475",
   "metadata": {},
   "outputs": [],
   "source": []
  },
  {
   "cell_type": "code",
   "execution_count": null,
   "id": "774e13bd",
   "metadata": {},
   "outputs": [],
   "source": []
  }
 ],
 "metadata": {
  "kernelspec": {
   "display_name": "Python 3",
   "language": "python",
   "name": "python3"
  },
  "language_info": {
   "codemirror_mode": {
    "name": "ipython",
    "version": 3
   },
   "file_extension": ".py",
   "mimetype": "text/x-python",
   "name": "python",
   "nbconvert_exporter": "python",
   "pygments_lexer": "ipython3",
   "version": "3.6.8"
  }
 },
 "nbformat": 4,
 "nbformat_minor": 5
}
