{
 "cells": [
  {
   "cell_type": "code",
   "execution_count": 14,
   "id": "fd02c05f",
   "metadata": {},
   "outputs": [],
   "source": [
    "import random"
   ]
  },
  {
   "cell_type": "markdown",
   "id": "ed8ce6b6",
   "metadata": {},
   "source": [
    "# 1 ~ 9 사이의 숫자가 채워진 리스트 또는 튜플을 만든다 . \n",
    "baseball = [i for i in range(1,10)]\n",
    "print(baseball)\n",
    "# 섞는다. \n",
    "# random.shuffle(baseball)\n",
    "#print(baseball)\n",
    "\n",
    "# 레벨을 입력 받는다 .\n",
    "level = int(input('레벨을 입력하세요(1~9):'))\n",
    "#cpu = baseball[:level]\n",
    "cpu = random.sample(baseball,level)\n",
    "print(cpu)\n",
    "# ==========================================\n",
    "\n",
    "# 몇 번 만에 맞출지 모르기 때문에 무한 루프를 돌려서 처리한다.\n",
    "while True:\n",
    "    # 새 반복이 시작될 때 마다 스트라이크 개수와 볼의 개수를 세는 변수를 0으로 초기화 시킨다.\n",
    "    # 초기화 시키지 않으면 이전 반복의 스트라이크 개수와 볼의 개수에 현재 반복에 스트라이크 , 볼의 개수가 누적된다.\n",
    "    s= 0 # 스트라이크 개수\n",
    "    b= 0 # 볼의 개수 \n",
    "    # 컴퓨터가 랜덤하게 발생시킨 숨겨놓은 숫자를 맞추기 위해 유저에게 입력을 요구한다.\n",
    "    user = int(input('맞춰봐:'))\n",
    "    \n",
    "    \n",
    "    # 레벨만큼 반복하며 스트라이크 개수와 볼의 개수를 센다.\n",
    "    for i _ in range(level):\n",
    "            # 스트라이크 => cpu와 user의 같은 인덱스의 데이터가 같다. \n",
    "            # cpu와 user의 데이터 타입이 다르기 때문에 str() 또는 int() 함수로 데이터 타입을 일치 시켜 비교한다. \n",
    "            # str() 함수는 인수로 지정된 숫자를 문자열 변환한다.\n",
    "            # chr() 함수는 인수로 지정된 코드값에 해당되는 문자를 리턴한다.\n",
    "            # int() 함수는 인수로 지정된 문자열을 숫자로 변환한다.\n",
    "        if cpu[i] == int(user[i]): # if str(cpu[i]) == uesr[i] 와 같이 조건을 비교해도된다.\n",
    "            s += 1\n",
    "            # 볼 => user[i]가 cpu 리스트에 포함되어 있다.\n",
    "        if int(user[i]) in cpu:\n",
    "            b += 1\n",
    "                \n",
    "            # 스트라이크의 개수와 레벨이 같으면 맞춘것이므로 무한 루프를 탈출한다.\n",
    "    if s == level:\n",
    "            break\n",
    "                \n",
    "        # 맞추지 못했으므로 힌트를 출력한다.     \n",
    "    print(f'{s}스트라이크 {b}볼')\n",
    "            \n",
    "# =================== while\n",
    "print('맞췃다.')"
   ]
  },
  {
   "cell_type": "code",
   "execution_count": null,
   "id": "acd07d56",
   "metadata": {},
   "outputs": [],
   "source": []
  },
  {
   "cell_type": "code",
   "execution_count": null,
   "id": "a0312c32",
   "metadata": {},
   "outputs": [],
   "source": []
  }
 ],
 "metadata": {
  "kernelspec": {
   "display_name": "Python 3",
   "language": "python",
   "name": "python3"
  },
  "language_info": {
   "codemirror_mode": {
    "name": "ipython",
    "version": 3
   },
   "file_extension": ".py",
   "mimetype": "text/x-python",
   "name": "python",
   "nbconvert_exporter": "python",
   "pygments_lexer": "ipython3",
   "version": "3.6.8"
  }
 },
 "nbformat": 4,
 "nbformat_minor": 5
}
