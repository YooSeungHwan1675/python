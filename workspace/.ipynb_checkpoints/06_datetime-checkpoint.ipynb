{
 "cells": [
  {
   "cell_type": "markdown",
   "id": "8a4df225",
   "metadata": {},
   "source": [
    "datetime 모듈  \n",
    "  \n",
    "컴퓨터 시스템의 날짜와 시간을 얻어온다"
   ]
  },
  {
   "cell_type": "code",
   "execution_count": 1,
   "id": "115d6e1b",
   "metadata": {},
   "outputs": [
    {
     "name": "stdout",
     "output_type": "stream",
     "text": [
      "2023-07-03 11:12:08.117562\n"
     ]
    }
   ],
   "source": [
    "import datetime # datetime 모듈 전체를 import 한다. \n",
    "now = datetime.datetime.now()\n",
    "print(now)"
   ]
  },
  {
   "cell_type": "code",
   "execution_count": 2,
   "id": "62ddcbe6",
   "metadata": {},
   "outputs": [
    {
     "name": "stdout",
     "output_type": "stream",
     "text": [
      "2023-07-03 11:12:08.133122\n"
     ]
    }
   ],
   "source": [
    "from datetime import datetime # datetime 모듈에서 datetime 클래스만 import 한다.\n",
    "now2 = datetime.now()\n",
    "print(now2)"
   ]
  },
  {
   "cell_type": "code",
   "execution_count": 3,
   "id": "1e020b72",
   "metadata": {},
   "outputs": [
    {
     "name": "stdout",
     "output_type": "stream",
     "text": [
      "2023-07-03 11:12:08.150172\n"
     ]
    }
   ],
   "source": [
    "from datetime import datetime as dt # import한 datetime 클래스에 dt라는 별명을 지정한다.   \n",
    "# import하는 모듈에 별명ㅇ르 지정한 경우 원래 모듈이름은 사용할 수 없고 as 뒤의 별명을 사용해야한다.\n",
    "# now3 = datetime.now() # 에러\n",
    "now3 = dt.now()\n",
    "print(now3)"
   ]
  },
  {
   "cell_type": "markdown",
   "id": "d55dc067",
   "metadata": {},
   "source": [
    "날짜, 시간 데이터에서 년,월,일, 시,분,초, 밀리초,마이크로초,요일 추출하기  \n"
   ]
  },
  {
   "cell_type": "code",
   "execution_count": 9,
   "id": "7a14b3ad",
   "metadata": {},
   "outputs": [
    {
     "name": "stdout",
     "output_type": "stream",
     "text": [
      "2023-07-04 09:43:56.524514\n",
      "2024-07-04 09:43:56.524514\n",
      "2023-11-04 09:43:56.524514\n",
      "2023-07-22 09:43:56.524514\n",
      "2023-07-04 13:43:56.524514\n",
      "2023-07-04 09:22:56.524514\n",
      "2023-07-04 09:43:00.524514\n",
      "2023-07-04 09:43:56.111111\n"
     ]
    }
   ],
   "source": [
    "from datetime import datetime as dt\n",
    "today = dt.now()\n",
    "print(today)\n",
    "\n",
    "print(today.replace(year=2024))\n",
    "print(today.replace(month=11))\n",
    "print(today.replace(day=22))\n",
    "print(today.replace(hour=13))\n",
    "print(today.replace(minute=22))\n",
    "print(today.replace(second=0))\n",
    "print(today.replace(microsecond=111111))"
   ]
  },
  {
   "cell_type": "code",
   "execution_count": 17,
   "id": "38a43e85",
   "metadata": {},
   "outputs": [
    {
     "name": "stdout",
     "output_type": "stream",
     "text": [
      "2023-11-22 <class 'str'>\n",
      "2023-11-22 00:00:00 <class 'datetime.datetime'>\n",
      "13:20:01 <class 'str'>\n",
      "2023-07-04 13:20:01 <class 'datetime.datetime'>\n",
      "2023-11-22 13:20:01 <class 'datetime.datetime'>\n"
     ]
    }
   ],
   "source": [
    "from dateutil.parser import parse \n",
    "string ='2023-11-22'\n",
    "print(string,type(string))\n",
    "date = parse(string)\n",
    "print(date,type(date))\n",
    "string ='13:20:01'\n",
    "print(string, type(string))\n",
    "time = parse(string)\n",
    "print(time , type(time))\n",
    "day = parse('2023-11-22 13:20:01')\n",
    "print(day,type(day))"
   ]
  },
  {
   "cell_type": "markdown",
   "id": "302300e0",
   "metadata": {},
   "source": [
    "두 날짜 데이터 사이의 차이 계산하기"
   ]
  },
  {
   "cell_type": "code",
   "execution_count": 30,
   "id": "080327a6",
   "metadata": {},
   "outputs": [
    {
     "name": "stdout",
     "output_type": "stream",
     "text": [
      "2023-07-04 10:01:34.793631\n",
      "2023-11-22 13:20:01.123456\n",
      "141 days, 3:18:26.329825\n",
      "141\n",
      "11906\n",
      "329825\n",
      "12194306.329825\n"
     ]
    }
   ],
   "source": [
    "from datetime import datetime as dt\n",
    "start = dt.now()\n",
    "print(start)\n",
    "end = parse('2023-11-22 13:20:01.123456')\n",
    "print(end)\n",
    "\n",
    "gap = end - start\n",
    "print(gap)\n",
    "print(gap.days) # 두 날짜 데이터 사이의 일 단위 차이를 얻어온다 => 날짜만 \n",
    "print(gap.seconds) # 두 날짜 데이터 사이의 초 단위 차이를 얻어온다 => 시간만\n",
    "print(gap.microseconds) # 두 날짜 데이터 사이의 초 단위 차이를 얻어온다. => 시간만\n",
    "print(gap.total_seconds()) # 두 날짜 데이터 사이의 차이를 초 단위로 환산해서 얻어온다 => 전체 데이터 "
   ]
  },
  {
   "cell_type": "markdown",
   "id": "f6dbc8b3",
   "metadata": {},
   "source": [
    "날짜, 시간 서식 지정하기  \n",
    "날짜데이터.strftime('출력 서식')\n",
    "\n",
    "날짜 서식  \n",
    "%Y: 년도 4자리, %y: 년도 2자리   \n",
    "%m: 월(숫자), %B: 월(영어=> 전체), %b: 월(영어 => 앞 3 글자)  \n",
    "%d: 일, %A: 요일(영어 => 전체), ,%a:요일(영어 => 앞 3 글자)\n"
   ]
  },
  {
   "cell_type": "code",
   "execution_count": 54,
   "id": "91eee29d",
   "metadata": {},
   "outputs": [
    {
     "name": "stdout",
     "output_type": "stream",
     "text": [
      "2023-07-04 10:18:13.868449\n",
      "2023 년\n",
      "07 월\n",
      "04 일\n",
      "2023-07-04\n",
      "<class 'str'>\n",
      "23-07-04\n",
      "2023-July-04\n",
      "2023-Jul-04\n",
      "July 04 2023\n",
      "2023-07-04 Tue\n",
      "Tuesday July 04 2023\n",
      "2023년 07월 04일\n"
     ]
    }
   ],
   "source": [
    "from datetime import datetime as dt\n",
    "today = dt.now()\n",
    "print(today)\n",
    "\n",
    "\n",
    "print(today.strftime('%Y'),'년')\n",
    "print(today.strftime('%m'),'월')\n",
    "print(today.strftime('%d'),'일')\n",
    "\n",
    "print(today.strftime('%Y-%m-%d'))\n",
    "print(type(today.strftime('%Y-%m-%d')))\n",
    "print(today.strftime('%y-%m-%d'))\n",
    "print(today.strftime('%Y-%B-%d'))\n",
    "print(today.strftime('%Y-%b-%d'))\n",
    "print(today.strftime('%B %d %Y'))\n",
    "print(today.strftime('%Y-%m-%d %a'))\n",
    "print(today.strftime('%A %B %d %Y'))\n",
    "\n",
    "# 날짜, 시간 서식에 한글을 넣었을 때 유니코드 인코딩 문제로 \n",
    "# print(today.strftime('%Y년 %m월 %d일')) # 에러\n",
    "# 날짜 시간 서식 지정시 UnicodeEncodeError 발생되면 아래와 같이 코딩한다.\n",
    "print(today.strftime('%Y년 %m월 %d일'.encode('unicode-escape').decode()).encode().decode('unicode-escape'))"
   ]
  },
  {
   "cell_type": "markdown",
   "id": "8eb035bf",
   "metadata": {},
   "source": [
    "시간 서식  \n",
    "%H: 시간 (24시간), %I: 시각 ( 12시각), %M 분, %s 초 ,%f: 마이크로초 , %p: AM/PM"
   ]
  },
  {
   "cell_type": "code",
   "execution_count": 57,
   "id": "7ec79b32",
   "metadata": {},
   "outputs": [
    {
     "name": "stdout",
     "output_type": "stream",
     "text": [
      "2023-07-04 10:37:28.653318\n",
      "10:37:28\n",
      "AM 10:37:28\n",
      "10시 37 분 28초\n"
     ]
    }
   ],
   "source": [
    "from datetime import datetime as dt\n",
    "today = dt.now()\n",
    "print(today)\n",
    "\n",
    "print(today.strftime('%H:%M:%S'))\n",
    "print(today.strftime('%p %H:%M:%S'))\n",
    "# print(today.strftime('%H시 %M 분 %S초')) #에러\n",
    "print(today.strftime('%H시 %M 분 %S초'.encode('unicode-escape').decode()).encode().decode('unicode-escape'))"
   ]
  },
  {
   "cell_type": "code",
   "execution_count": null,
   "id": "3dba3d17",
   "metadata": {},
   "outputs": [],
   "source": []
  },
  {
   "cell_type": "code",
   "execution_count": null,
   "id": "05ecb95e",
   "metadata": {},
   "outputs": [],
   "source": []
  },
  {
   "cell_type": "code",
   "execution_count": null,
   "id": "5bf5c18c",
   "metadata": {},
   "outputs": [],
   "source": []
  },
  {
   "cell_type": "code",
   "execution_count": null,
   "id": "35b2a6cb",
   "metadata": {},
   "outputs": [],
   "source": []
  },
  {
   "cell_type": "code",
   "execution_count": null,
   "id": "247cd74c",
   "metadata": {},
   "outputs": [],
   "source": []
  },
  {
   "cell_type": "code",
   "execution_count": null,
   "id": "2a550da3",
   "metadata": {},
   "outputs": [],
   "source": []
  },
  {
   "cell_type": "code",
   "execution_count": null,
   "id": "b0f499d0",
   "metadata": {},
   "outputs": [],
   "source": []
  },
  {
   "cell_type": "code",
   "execution_count": null,
   "id": "05490a90",
   "metadata": {},
   "outputs": [],
   "source": []
  }
 ],
 "metadata": {
  "kernelspec": {
   "display_name": "Python 3",
   "language": "python",
   "name": "python3"
  },
  "language_info": {
   "codemirror_mode": {
    "name": "ipython",
    "version": 3
   },
   "file_extension": ".py",
   "mimetype": "text/x-python",
   "name": "python",
   "nbconvert_exporter": "python",
   "pygments_lexer": "ipython3",
   "version": "3.6.8"
  }
 },
 "nbformat": 4,
 "nbformat_minor": 5
}
