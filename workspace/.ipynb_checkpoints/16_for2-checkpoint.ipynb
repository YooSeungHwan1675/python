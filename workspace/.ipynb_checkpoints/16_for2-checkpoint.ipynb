{
 "cells": [
  {
   "cell_type": "markdown",
   "id": "b319a445",
   "metadata": {},
   "source": [
    "리스트와 함께 사용하는 for"
   ]
  },
  {
   "cell_type": "code",
   "execution_count": 4,
   "id": "5fa580be",
   "metadata": {},
   "outputs": [
    {
     "name": "stdout",
     "output_type": "stream",
     "text": [
      "['Life', 'is', 'too', 'Good']\n",
      "================================================================================\n",
      "Life\n",
      "is\n",
      "too\n",
      "Good\n",
      "================================================================================\n",
      "is\n",
      "too\n"
     ]
    }
   ],
   "source": [
    "a = ['Life','is','too','Good']\n",
    "print(a)\n",
    "print('=' * 80)\n",
    "\n",
    "for i in a:\n",
    "    print(i)\n",
    "print('=' *80)\n",
    "\n",
    "for i in a[1:3]:\n",
    "    print(i)"
   ]
  },
  {
   "cell_type": "markdown",
   "id": "81d0c43e",
   "metadata": {},
   "source": [
    "튜플과 함께 사용하는 for"
   ]
  },
  {
   "cell_type": "code",
   "execution_count": 7,
   "id": "d50676eb",
   "metadata": {},
   "outputs": [
    {
     "name": "stdout",
     "output_type": "stream",
     "text": [
      "('Life', 'is', 'too', 'Good')\n",
      "================================================================================\n",
      "Life\n",
      "is\n",
      "too\n",
      "Good\n",
      "================================================================================\n",
      "Life\n",
      "is\n",
      "too\n",
      "Good\n",
      "is\n",
      "too\n"
     ]
    }
   ],
   "source": [
    "a = 'Life','is','too','Good'\n",
    "print(a)\n",
    "print('=' * 80)\n",
    "\n",
    "for i in a:\n",
    "    print(i)\n",
    "print('=' *80)\n",
    "\n",
    "for i in range(len(a)):\n",
    "    print(a[i])\n",
    "print('=' *80)\n",
    "\n",
    "for i in a[1:3]:\n",
    "    print(i)"
   ]
  },
  {
   "cell_type": "markdown",
   "id": "3a84c469",
   "metadata": {},
   "source": [
    "set 과 함께 사용하는 for"
   ]
  },
  {
   "cell_type": "code",
   "execution_count": 13,
   "id": "92090bb9",
   "metadata": {},
   "outputs": [
    {
     "name": "stdout",
     "output_type": "stream",
     "text": [
      "{'Life', 'is', 'Good', 'too'}\n",
      "================================================================================\n",
      "Life\n",
      "is\n",
      "Good\n",
      "too\n",
      "================================================================================\n"
     ]
    }
   ],
   "source": [
    "a = {'Life','is','too','Good'}\n",
    "print(a)\n",
    "print('=' * 80)\n",
    "\n",
    "for i in a:\n",
    "    print(i)\n",
    "print('=' *80)\n",
    "'''\n",
    "for i in range(len(a)):\n",
    "    print(a[i]) # set은 입력되는 순서와 저장되는 순서가 달라서 인덱싱을 사용할 수 없으므로 에러가 발생한다.\n",
    "print('=' *80)\n",
    "\n",
    "\n",
    "for i in a[1:3]: ㅍ# set은 입력되는 순서와 저장되는 순서가 달라서 슬라이싱을 사용할 수 없으므로 에러가 발생한다.\n",
    "    print(i)\n",
    "'''\n",
    "pass"
   ]
  },
  {
   "cell_type": "markdown",
   "id": "20214f7c",
   "metadata": {},
   "source": [
    "딕셔너리와 함께 사용하는 for "
   ]
  },
  {
   "cell_type": "code",
   "execution_count": 15,
   "id": "ab9f3077",
   "metadata": {},
   "outputs": [
    {
     "name": "stdout",
     "output_type": "stream",
     "text": [
      "{'apple': 1000, 'banana': 3500, 'melon': 10000, 'mango': 5000}\n",
      "dict_keys(['apple', 'banana', 'melon', 'mango'])\n",
      "dict_values([1000, 3500, 10000, 5000])\n",
      "dict_items([('apple', 1000), ('banana', 3500), ('melon', 10000), ('mango', 5000)])\n"
     ]
    }
   ],
   "source": [
    "a = {'apple':1000,'banana': 3500, 'melon': 10000,'mango':5000}\n",
    "print(a)\n",
    "print(a.keys())\n",
    "print(a.values())\n",
    "print(a.items())"
   ]
  },
  {
   "cell_type": "code",
   "execution_count": 18,
   "id": "d6fa747d",
   "metadata": {},
   "outputs": [
    {
     "name": "stdout",
     "output_type": "stream",
     "text": [
      "apple\n",
      "banana\n",
      "melon\n",
      "mango\n",
      "================================================================================\n",
      "apple\n",
      "banana\n",
      "melon\n",
      "mango\n",
      "================================================================================\n"
     ]
    }
   ],
   "source": [
    "for key in a: # 딕셔너리 이름만 쓰면 딕셔너리이름.keys()와 같은의미로 사용된다.\n",
    "    print(key)\n",
    "print('=' *80)\n",
    "\n",
    "for key in a.keys():\n",
    "    print(key)\n",
    "print('=' *80)"
   ]
  },
  {
   "cell_type": "markdown",
   "id": "8369e660",
   "metadata": {},
   "source": [
    "enumerate() 함수는 인수로 지정된 리스트, 튜플 딕셔너리 ,set의 index와 value를 리턴한다."
   ]
  },
  {
   "cell_type": "code",
   "execution_count": 20,
   "id": "fd3e1a94",
   "metadata": {
    "scrolled": true
   },
   "outputs": [
    {
     "name": "stdout",
     "output_type": "stream",
     "text": [
      "0 홍길동\n",
      "1 임꺽정\n",
      "2 장길산\n",
      "3 일지매\n"
     ]
    }
   ],
   "source": [
    "for index ,data in enumerate(['홍길동','임꺽정','장길산','일지매']):\n",
    "    print(index,data)"
   ]
  },
  {
   "cell_type": "markdown",
   "id": "b4355b32",
   "metadata": {},
   "source": [
    "zip()함수는 서로 다른 데이터가 저장된 객체를 반복 가능한 형태로 묶어준다."
   ]
  },
  {
   "cell_type": "code",
   "execution_count": 24,
   "id": "7aee2817",
   "metadata": {},
   "outputs": [
    {
     "name": "stdout",
     "output_type": "stream",
     "text": [
      "[191, 182, 173]\n",
      "[191, 182, 173]\n"
     ]
    }
   ],
   "source": [
    "java = [100,100,100]\n",
    "jsp = [90,80,70]\n",
    "python = [1,2,3]\n",
    "total = []\n",
    "\n",
    "for i in range(len(java)):\n",
    "    total.append(java[i] + jsp[i] + python[i])\n",
    "print(total)\n",
    "\n",
    "total=[]\n",
    "for java,jsp,python in zip(java,jsp,python):\n",
    "    total.append(java + jsp + python)\n",
    "print(total)"
   ]
  },
  {
   "cell_type": "code",
   "execution_count": null,
   "id": "b7e5f478",
   "metadata": {},
   "outputs": [],
   "source": []
  },
  {
   "cell_type": "code",
   "execution_count": null,
   "id": "54bc1031",
   "metadata": {},
   "outputs": [],
   "source": []
  }
 ],
 "metadata": {
  "kernelspec": {
   "display_name": "Python 3",
   "language": "python",
   "name": "python3"
  },
  "language_info": {
   "codemirror_mode": {
    "name": "ipython",
    "version": 3
   },
   "file_extension": ".py",
   "mimetype": "text/x-python",
   "name": "python",
   "nbconvert_exporter": "python",
   "pygments_lexer": "ipython3",
   "version": "3.6.8"
  }
 },
 "nbformat": 4,
 "nbformat_minor": 5
}
