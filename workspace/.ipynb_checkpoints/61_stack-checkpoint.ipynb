{
 "cells": [
  {
   "cell_type": "code",
   "execution_count": 7,
   "id": "7e0cedec",
   "metadata": {},
   "outputs": [],
   "source": [
    "class Stack:\n",
    "    # Stack 클래스가 생성될떄 크기를 넘겨받으면 넘겨받은 크기 만큼 기억공간을 가지는 스택을 생성하고 스택의 크기를 \n",
    "    # 넘겨받지 않으면 5개의 데이터를 저장할 수있는 스택을 만든다. => 디폴드 인수를 사용한다.\n",
    "    def __init__(self, size=5):\n",
    "        # print('스택의 크기: {}'.format(size))\n",
    "        self.size = size # 스택의 크기\n",
    "        # 생성자에서 스택으로 사용할 빈 리스트를 만든다 .\n",
    "        self.stack = [] # stack => 빈 리스트 => 데이터는 append() 메소드로 추가한다.\n",
    "        # top,SP(Stack Pointer) => 스택에 몇개의 데이터가 저장되어있나 기억한다 . \n",
    "        # 스텍에 데이터가 입력되면 1증가, 스택에서 데이터가 출력되면 1감소 스택의 크기와 비교해서 overflow, underflow를 처리한다.\n",
    "        self.top = 0\n",
    "    def __str__(self):\n",
    "        return '스택의 크기: {}'.format(self.size)\n",
    "    \n",
    "    # push => 입력\n",
    "    def push(self, data):\n",
    "        # 스택에 저장하려는 데이터가 스택에 존재하지 않을 때 저장한다.\n",
    "        if data not in self.stack: # 스텍에 저장하려는 데이터가 스텍에 존재하지 않는가 ?\n",
    "            # 스텍에 저장하려는 데이터가 스택에 존재하지 않기 때문에 스텍에 저장하기  전에 overflow 인가 검사한다 .\n",
    "            # 스택의 크기 (self.size)가 5일때 스택으로 사용할 리스트의 인덱스(self.top)는 0,1,2,3,4만 사용할 수 있다.\n",
    "            if self.size > self.top: \n",
    "                # overflow가 발생하지 않았으므로 스택에 테이터를 저장한다.\n",
    "                self.stack.append(data)\n",
    "                # 스택에 데이터를 추가했으므로 top을 1증가시킨다 .\n",
    "                self.top +=1\n",
    "            else:\n",
    "                # overflow가 발생되면 스택이 가득 찼다는 메시지를 출력한다.\n",
    "                print('overflow 발생 ... 스택이 가득차서 {}를(을) 저장할 수 없습니다. '.format(data))\n",
    "            # ====== if \n",
    "        else: \n",
    "            # 스택에 저장하려는 데이터가 스택에 존재하기 때문에 중복 데이터 메시지를 출력한다. \n",
    "            print('{}는(은) 중복된 데이터 입니다.'.format(data))\n",
    "        # ====== if\n",
    "        # 스택에 저장된 데이터를 출력하는 메소드(view)를 실행한다.\n",
    "        # 현재 클래스 내부의 다른 함수를 실행하려는 경우 앞에 'self' 를 붙여서 실행한다.\n",
    "        self.view()\n",
    "        # 스택에 저장된 데이터의 개수 만큼 반복하며 스텍에 저장된 데이터를 출력한다.\n",
    "        # print('스텍에 저장된 데이터 => {} '.format(self.stack))\n",
    "    def view(self):\n",
    "        print('스택에 저장된 데이터 =>', end='')\n",
    "        # underflow 인가 검사한다 \n",
    "        if self.top <= 0:\n",
    "            # 스택에 저장된 데이터가 없으므로 없다고 출력한다 .\n",
    "            print(' 없음')\n",
    "        else:\n",
    "        # 스택에 저장된 데이터의 개수만큼 반복하며 스택에 저장된 데이터를 출력한다 .\n",
    "           # for i in range(len(self.stack)):\n",
    "           #     print(self.stack[i], end=' ')\n",
    "            for s in self.stack:\n",
    "                print(s,end=' ')\n",
    "            print()"
   ]
  },
  {
   "cell_type": "code",
   "execution_count": 8,
   "id": "b75e0f17",
   "metadata": {},
   "outputs": [
    {
     "name": "stdout",
     "output_type": "stream",
     "text": [
      "스택의 크기: 5\n",
      "================================================================================\n",
      "스택에 저장된 데이터 => 없음\n",
      "================================================================================\n",
      "스택에 저장된 데이터 =>111 \n",
      "111는(은) 중복된 데이터 입니다.\n",
      "스택에 저장된 데이터 =>111 \n",
      "스택에 저장된 데이터 =>111 3.141592 \n",
      "스택에 저장된 데이터 =>111 3.141592 화요일 \n",
      "스택에 저장된 데이터 =>111 3.141592 화요일 True \n",
      "스택에 저장된 데이터 =>111 3.141592 화요일 True 555 \n",
      "overflow 발생 ... 스택이 가득차서 777를(을) 저장할 수 없습니다. \n",
      "스택에 저장된 데이터 =>111 3.141592 화요일 True 555 \n"
     ]
    }
   ],
   "source": [
    "stack = Stack()\n",
    "print(stack)\n",
    "print('='*80)\n",
    "stack.view()\n",
    "print('='*80)\n",
    "stack.push(111)\n",
    "stack.push(111)\n",
    "stack.push(3.141592)\n",
    "stack.push('화요일')\n",
    "stack.push(True)\n",
    "stack.push(555)\n",
    "stack.push(777)"
   ]
  }
 ],
 "metadata": {
  "kernelspec": {
   "display_name": "Python 3",
   "language": "python",
   "name": "python3"
  },
  "language_info": {
   "codemirror_mode": {
    "name": "ipython",
    "version": 3
   },
   "file_extension": ".py",
   "mimetype": "text/x-python",
   "name": "python",
   "nbconvert_exporter": "python",
   "pygments_lexer": "ipython3",
   "version": "3.6.8"
  }
 },
 "nbformat": 4,
 "nbformat_minor": 5
}
