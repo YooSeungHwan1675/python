{
 "cells": [
  {
   "cell_type": "code",
   "execution_count": 1,
   "id": "6905b9b8",
   "metadata": {},
   "outputs": [],
   "source": [
    "import random"
   ]
  },
  {
   "cell_type": "code",
   "execution_count": 5,
   "id": "5e1d6112",
   "metadata": {},
   "outputs": [
    {
     "name": "stdout",
     "output_type": "stream",
     "text": [
      " 1  2  3  4  5  6  7  8  9 10 \n",
      "11 12 13 14 15 16 17 18 19 20 \n",
      "21 22 23 24 25 26 27 28 29 30 \n",
      "31 32 33 34 35 36 37 38 39 40 \n",
      "41 42 43 44 45 \n",
      "==============================섞기전\n",
      "18 32 25 45  1 17  9 10 28 34 \n",
      " 5 41 11  6 36 19 15 24 23 30 \n",
      "22 16 43 33 14 37  4  3  8 27 \n",
      "31 42 13 20  7 40 12 44 26 39 \n",
      "29 21  2 38 35 \n",
      "==============================섞은후\n",
      "Wall time: 1.14 s\n"
     ]
    }
   ],
   "source": [
    "%%time\n",
    "# %%time 매직 명령은 쥬피터 노트북 한 셀이 실행되는 시간을 출력한다.\n",
    "\n",
    "\n",
    "# 로또 추첨기로 사용할 리스트를 만들고 1 ~ 45로 초기화 시킨다.\n",
    "lotto = []\n",
    "for i in range(45):\n",
    "    lotto.append(i+1)\n",
    "# print(lotto)\n",
    "\n",
    "# 섞기 전 상태를 출력한다. => 1줄에 숫자 10개씩 출력한다.\n",
    "for i in range(len(lotto)):\n",
    "    print('{:2d}'.format(lotto[i]), end=' ')\n",
    "    if (i +1)%10 ==0:\n",
    "        print()\n",
    "print('\\n'+'=' *30+'섞기전')\n",
    "\n",
    "# 섞는다.\n",
    "\n",
    "# lotto[0]와 (고정) lotto[1] ~ lotto[44] 중에서 랜덤한 위치의 값을 선택해서 두 기억장소의 값을 교환한다.\n",
    "for i in range(1000000) :\n",
    "    # 1~ 44 중에서 랜덤한 값을 발생시킨다.\n",
    "    r = random.randint(1,44)\n",
    "    # lotto[0]와 lotto[r]에 저장된값을 교환한다.\n",
    "    # temp = lotto[0]\n",
    "    # lotto[0] = lotto[r]\n",
    "    # lotto[r] = temp\n",
    "    lotto[0],lotto[r] = lotto[r] , lotto[0]\n",
    "\n",
    "# shuffle() 메소드로 데이터를 섞을 수 있다. => 반복 처리보다 속도도 월등히 빠르다.\n",
    "# random.shuffle(lotto)\n",
    "\n",
    "# 섞은 후 상태를 출력한다. => 1줄에 숫자 10개씩 출력한다.\n",
    "for i in range(len(lotto)):\n",
    "    print('{:2d}'.format(lotto[i]), end=' ')\n",
    "    if (i +1)%10 ==0:\n",
    "        print()\n",
    "print('\\n'+'=' *30+'섞은후')"
   ]
  },
  {
   "cell_type": "code",
   "execution_count": null,
   "id": "673b1742",
   "metadata": {},
   "outputs": [],
   "source": []
  },
  {
   "cell_type": "code",
   "execution_count": null,
   "id": "d2852512",
   "metadata": {},
   "outputs": [],
   "source": []
  },
  {
   "cell_type": "code",
   "execution_count": null,
   "id": "f6bd11bb",
   "metadata": {},
   "outputs": [],
   "source": []
  },
  {
   "cell_type": "code",
   "execution_count": null,
   "id": "ee224009",
   "metadata": {},
   "outputs": [],
   "source": []
  },
  {
   "cell_type": "code",
   "execution_count": null,
   "id": "519306fa",
   "metadata": {},
   "outputs": [],
   "source": []
  },
  {
   "cell_type": "code",
   "execution_count": null,
   "id": "2c3d9904",
   "metadata": {},
   "outputs": [],
   "source": []
  }
 ],
 "metadata": {
  "kernelspec": {
   "display_name": "Python 3",
   "language": "python",
   "name": "python3"
  },
  "language_info": {
   "codemirror_mode": {
    "name": "ipython",
    "version": 3
   },
   "file_extension": ".py",
   "mimetype": "text/x-python",
   "name": "python",
   "nbconvert_exporter": "python",
   "pygments_lexer": "ipython3",
   "version": "3.6.8"
  }
 },
 "nbformat": 4,
 "nbformat_minor": 5
}
