{
 "cells": [
  {
   "cell_type": "markdown",
   "id": "65929fff",
   "metadata": {},
   "source": [
    "분산, 표준편차  \n",
    "  \n",
    "n개의 데이터(999가 입력되기 전 까지)를 입력받아 최대 값과 최소값을 제외한 나머지 데이터의 표준편차를계산하는 프로그램\n",
    "***\n",
    "표준편차 공식  \n",
    "$\\sqrt{\\frac{\\sum_{i=1}^n(x_i - \\bar{x})^2}{N}}$"
   ]
  },
  {
   "cell_type": "code",
   "execution_count": 3,
   "id": "20933244",
   "metadata": {},
   "outputs": [
    {
     "name": "stdout",
     "output_type": "stream",
     "text": [
      "최대값: 91, 최소값: 35\n"
     ]
    }
   ],
   "source": [
    "# data = [35,91,75,62,84]\n",
    "data = [35,62,75,84,91]\n",
    "# 최대값을 기억할 변수는 아주작은 값을, 최소값을 기억할 변수는 아주 큰 값을 초기치로 넣어주고 비교한다.\n",
    "big = 0\n",
    "small = 100\n",
    "for score in data:\n",
    "    if score > big:\n",
    "        big = score\n",
    "    if score <small:   # 이때 elif 를 사용하면안된다. \n",
    "        small = score\n",
    "print(f'최대값: {big}, 최소값: {small}')"
   ]
  },
  {
   "cell_type": "code",
   "execution_count": null,
   "id": "62ef850f",
   "metadata": {},
   "outputs": [],
   "source": []
  },
  {
   "cell_type": "code",
   "execution_count": null,
   "id": "4b6b59a7",
   "metadata": {},
   "outputs": [],
   "source": []
  }
 ],
 "metadata": {
  "kernelspec": {
   "display_name": "Python 3",
   "language": "python",
   "name": "python3"
  },
  "language_info": {
   "codemirror_mode": {
    "name": "ipython",
    "version": 3
   },
   "file_extension": ".py",
   "mimetype": "text/x-python",
   "name": "python",
   "nbconvert_exporter": "python",
   "pygments_lexer": "ipython3",
   "version": "3.6.8"
  }
 },
 "nbformat": 4,
 "nbformat_minor": 5
}
