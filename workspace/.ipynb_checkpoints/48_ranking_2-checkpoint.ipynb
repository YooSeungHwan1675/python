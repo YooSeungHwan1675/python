{
 "cells": [
  {
   "cell_type": "markdown",
   "id": "f83741d5",
   "metadata": {},
   "source": [
    "선택 정렬의 반복 알고리즘을 이용한 석차 계산  \n",
    "<img src=\"./images/se.png\" align=\"left\" width=\"1000\">"
   ]
  },
  {
   "cell_type": "code",
   "execution_count": 3,
   "id": "3373e106",
   "metadata": {},
   "outputs": [
    {
     "name": "stdout",
     "output_type": "stream",
     "text": [
      " 70점은 5 등 입니다.\n",
      "100점은 1 등 입니다.\n",
      " 80점은 4 등 입니다.\n",
      "100점은 1 등 입니다.\n",
      " 90점은 3 등 입니다.\n"
     ]
    }
   ],
   "source": [
    "score = [70,100,80,100,90]\n",
    "rank = [1 for _ in range(len(score))]\n",
    "# print(rank)\n",
    "\n",
    "for i in range(len(score) -1):\n",
    "    for j in range(i +1 ,len(score)):\n",
    "        # i 번째 점수가 크면 j 번째 석차를 1증가시키고 j 번째 점수가 크면 i 번째 석차를 증가시킨다.\n",
    "        if score[i] <score[j]:\n",
    "            rank[i] += 1\n",
    "        elif  score[i] > score[j]:\n",
    "            rank[j] += 1\n",
    "        # ========= if \n",
    "    #============ for j\n",
    "# ============ for i\n",
    "\n",
    "for i in range(len(score)):\n",
    "    print('{:3d}점은 {} 등 입니다.'.format(score[i],rank[i]))"
   ]
  },
  {
   "cell_type": "code",
   "execution_count": null,
   "id": "6b376db8",
   "metadata": {},
   "outputs": [],
   "source": []
  },
  {
   "cell_type": "code",
   "execution_count": null,
   "id": "c52b7277",
   "metadata": {},
   "outputs": [],
   "source": []
  },
  {
   "cell_type": "code",
   "execution_count": null,
   "id": "e64bbe54",
   "metadata": {},
   "outputs": [],
   "source": []
  },
  {
   "cell_type": "code",
   "execution_count": null,
   "id": "d3c9e3c0",
   "metadata": {},
   "outputs": [],
   "source": []
  },
  {
   "cell_type": "code",
   "execution_count": null,
   "id": "d09198da",
   "metadata": {},
   "outputs": [],
   "source": []
  },
  {
   "cell_type": "code",
   "execution_count": null,
   "id": "2e930e24",
   "metadata": {},
   "outputs": [],
   "source": []
  }
 ],
 "metadata": {
  "kernelspec": {
   "display_name": "Python 3",
   "language": "python",
   "name": "python3"
  },
  "language_info": {
   "codemirror_mode": {
    "name": "ipython",
    "version": 3
   },
   "file_extension": ".py",
   "mimetype": "text/x-python",
   "name": "python",
   "nbconvert_exporter": "python",
   "pygments_lexer": "ipython3",
   "version": "3.6.8"
  }
 },
 "nbformat": 4,
 "nbformat_minor": 5
}
