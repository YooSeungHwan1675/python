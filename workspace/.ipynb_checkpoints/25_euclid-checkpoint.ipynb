{
 "cells": [
  {
   "cell_type": "markdown",
   "id": "b14924e8",
   "metadata": {},
   "source": [
    "유클리드 호제법을 이용한 최대 공약수와 최소 공배수 구하기  \n",
    "  \n",
    "숫자 2개를 입력받아 큰수와 작은수를 구분한다.  \n",
    "큰수를 작은수로 나눠 떨어지면 작은수가 최대 공약수가 되고 큰수를 작은수로 나눠 떨어지지 않으면 큰수를 기억하는 기억장소에 작은수를 넣어주고 작은수를 기억하는 기억장소에 큰수를 작은수로 나눈 나머지를 넣어준후 계산을 반복한다.  \n",
    "최대공약수가 계산되면 입력받은 숫자 2개를 곱한 결과를 최대 공약수로 나눠주면 최소 공배수가된다.  \n",
    "\n",
    "<img src=\"./images/uclid.png\" align=\"left\">"
   ]
  },
  {
   "cell_type": "code",
   "execution_count": 4,
   "id": "44f2d6ea",
   "metadata": {},
   "outputs": [
    {
     "name": "stdout",
     "output_type": "stream",
     "text": [
      "숫자 2개를 입력하세요: 6 9\n",
      "큰수: 9,작은수: 6\n",
      "최대공약수: 3, 최소공배수: 18\n",
      "최대 공약수: 3, 최소 공배수: 18\n",
      "최대공약수: 3, 최소 공배수: 18\n"
     ]
    }
   ],
   "source": [
    "a, b = map(int, input('숫자 2개를 입력하세요: ').split())\n",
    "if a > b:\n",
    "    big = a; small = b\n",
    "else:\n",
    "    big = b; small =a\n",
    "print(f'큰수: {big},작은수: {small}')\n",
    "# 입력받은 숫자에 따라 계산에 필요한 반복 횟수가 달라지므로 무한 루프를 돌려서 처리한다.\n",
    "while True:\n",
    "    # 큰수를 작은수로 나눈 나머지를 계산한다.\n",
    "    r = big % small\n",
    "    # 큰수를 작은수로 나눠 떨어지면 최대 공약수가 계산된것이므로 무한 루프를 탈출한다.\n",
    "    if r ==0:\n",
    "        break\n",
    "    #====== if\n",
    "    # 큰수를 작은수로 나눠 떨어지지 않았으면 다음 작업을 위해서 큰수를 기억하던 기억장소에 작은수를, 작은수를 기억하던\n",
    "    # 기억장소에 나머지를 넣어준다.\n",
    "    big = small\n",
    "    small = r\n",
    "# ====== while\n",
    "# 최대공약수가 계산되었으면  최소 공배수를 계산하고 출력한다.\n",
    "print('최대공약수: {}, 최소공배수: {}'.format(small, a * b // small))\n",
    "print('최대 공약수: %d, 최소 공배수: %d' % (small, a*b //small))\n",
    "print(f'최대공약수: {small}, 최소 공배수: {a *b // small}')"
   ]
  },
  {
   "cell_type": "markdown",
   "id": "450b793d",
   "metadata": {},
   "source": [
    "<img src=\"./images/uclid2.png\" align=\"left\">"
   ]
  },
  {
   "cell_type": "code",
   "execution_count": 6,
   "id": "7774247f",
   "metadata": {},
   "outputs": [
    {
     "name": "stdout",
     "output_type": "stream",
     "text": [
      "숫자 2개를 입력하세요 : 6 9\n",
      "큰수:6, 작은수: 3\n",
      "최대공약수: 3, 최소공배수:18\n"
     ]
    }
   ],
   "source": [
    "a, b = map(int, input('숫자 2개를 입력하세요 : ').split())\n",
    "r =1 # 나머지 , 나머지가 0 이 아니면 최대 공약수를 계산하기 위해 사용하는 변수\n",
    "if a >b:\n",
    "    high = a; low =b\n",
    "else:\n",
    "    low = a; high =b\n",
    "print(f'큰수:{big}, 작은수: {small}')\n",
    "# 변수 r의 초기치가 1로 지정되었으므로 while 의 최초 진입 조건이 참이 되므로 r 이 0 보다 큰동안 반복한다 . \n",
    "while r>0:\n",
    "    r = high % low # 큰수를 작은수로 나눈 나머지를 계산한다.\n",
    "    high = low\n",
    "    low = r\n",
    "# ==== while\n",
    "l = a*b // high\n",
    "print('최대공약수: {}, 최소공배수:{}'.format(high,l))"
   ]
  },
  {
   "cell_type": "code",
   "execution_count": null,
   "id": "a12c2150",
   "metadata": {},
   "outputs": [],
   "source": []
  },
  {
   "cell_type": "code",
   "execution_count": null,
   "id": "7dec4efc",
   "metadata": {},
   "outputs": [],
   "source": []
  },
  {
   "cell_type": "code",
   "execution_count": null,
   "id": "76cbd92d",
   "metadata": {},
   "outputs": [],
   "source": []
  },
  {
   "cell_type": "code",
   "execution_count": null,
   "id": "0bde043d",
   "metadata": {},
   "outputs": [],
   "source": []
  }
 ],
 "metadata": {
  "kernelspec": {
   "display_name": "Python 3",
   "language": "python",
   "name": "python3"
  },
  "language_info": {
   "codemirror_mode": {
    "name": "ipython",
    "version": 3
   },
   "file_extension": ".py",
   "mimetype": "text/x-python",
   "name": "python",
   "nbconvert_exporter": "python",
   "pygments_lexer": "ipython3",
   "version": "3.6.8"
  }
 },
 "nbformat": 4,
 "nbformat_minor": 5
}
