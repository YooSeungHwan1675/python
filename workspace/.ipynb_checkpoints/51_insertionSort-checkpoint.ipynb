{
 "cells": [
  {
   "cell_type": "markdown",
   "id": "768fdd32",
   "metadata": {},
   "source": [
    "insertionSort( 삽입 정렬, 삽입법)\n",
    "\n",
    "삽입정렬인 이미 정렬된 파일에 새로운 레코드를 위치에 맞게 삽입한다.  \n",
    "정렬할 데이터가 n개일 경우 회전수는 n-1 번이된다 => 데이터가 5개면 회전수는 4번이다.  "
   ]
  },
  {
   "cell_type": "markdown",
   "id": "57416b6d",
   "metadata": {},
   "source": [
    "\n",
    "\n",
    "<img src=\"./images/insert.png\" align=\"left\" width=\"1000\">"
   ]
  },
  {
   "cell_type": "code",
   "execution_count": 1,
   "id": "98ca0d58",
   "metadata": {},
   "outputs": [
    {
     "name": "stdout",
     "output_type": "stream",
     "text": [
      "[i = 1 , j = 0]\n",
      "[i = 2 , j = 1][i = 2 , j = 0]\n",
      "[i = 3 , j = 2][i = 3 , j = 1][i = 3 , j = 0]\n",
      "[i = 4 , j = 3][i = 4 , j = 2][i = 4 , j = 1][i = 4 , j = 0]\n"
     ]
    }
   ],
   "source": [
    "n= 5\n",
    "for i in range(1,n): # 회전수 , 정렬된 파일에 삽입할 데이터의 위치 \n",
    "    for j in range(i -1 , -1 , -1):\n",
    "        print(f'[i = {i} , j = {j}]', end='')\n",
    "    print()"
   ]
  },
  {
   "cell_type": "code",
   "execution_count": null,
   "id": "bb5f7fe4",
   "metadata": {},
   "outputs": [],
   "source": [
    "data = [8,3,4,9,1]"
   ]
  },
  {
   "cell_type": "code",
   "execution_count": null,
   "id": "02267a09",
   "metadata": {},
   "outputs": [],
   "source": []
  },
  {
   "cell_type": "code",
   "execution_count": null,
   "id": "ae1977bf",
   "metadata": {},
   "outputs": [],
   "source": []
  }
 ],
 "metadata": {
  "kernelspec": {
   "display_name": "Python 3",
   "language": "python",
   "name": "python3"
  },
  "language_info": {
   "codemirror_mode": {
    "name": "ipython",
    "version": 3
   },
   "file_extension": ".py",
   "mimetype": "text/x-python",
   "name": "python",
   "nbconvert_exporter": "python",
   "pygments_lexer": "ipython3",
   "version": "3.6.8"
  }
 },
 "nbformat": 4,
 "nbformat_minor": 5
}
