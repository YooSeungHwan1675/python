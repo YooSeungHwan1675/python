{
 "cells": [
  {
   "cell_type": "markdown",
   "id": "c9a75f10",
   "metadata": {},
   "source": [
    "함수로 데이터를 전달할 때 데이터가 전달될 인수를 지정할 수 있다."
   ]
  },
  {
   "cell_type": "code",
   "execution_count": 1,
   "id": "45202e01",
   "metadata": {},
   "outputs": [],
   "source": [
    "def func3(a,b,c):\n",
    "    print(f'{a} + {b} +{c} = {a+b+c}')"
   ]
  },
  {
   "cell_type": "code",
   "execution_count": 2,
   "id": "03b64f8e",
   "metadata": {},
   "outputs": [
    {
     "name": "stdout",
     "output_type": "stream",
     "text": [
      "100 + 200 +300 = 600\n"
     ]
    }
   ],
   "source": [
    "# 데이터가 전달될 때 인수를 지정하지 않으면 처음부터 차례대로 데이터가 함수로 전달된다.\n",
    "func3(100,200,300)"
   ]
  },
  {
   "cell_type": "code",
   "execution_count": 3,
   "id": "fb997d76",
   "metadata": {},
   "outputs": [
    {
     "name": "stdout",
     "output_type": "stream",
     "text": [
      "100 + 200 +300 = 600\n"
     ]
    }
   ],
   "source": [
    "# 함수를 호출할 때 데이터가 전달될 인수를 지정할 수있다 .\n",
    "func3(a=100, b=200 ,c=300)"
   ]
  },
  {
   "cell_type": "code",
   "execution_count": 4,
   "id": "1698af36",
   "metadata": {},
   "outputs": [
    {
     "name": "stdout",
     "output_type": "stream",
     "text": [
      "300 + 100 +200 = 600\n"
     ]
    }
   ],
   "source": [
    "# 인수를 지정해서 함수를 호출하면 가인수의 순서와 관계없이 사용할 수 있다.\n",
    "func3(b=100, c= 200 ,a =300)"
   ]
  },
  {
   "cell_type": "code",
   "execution_count": 5,
   "id": "4432e042",
   "metadata": {},
   "outputs": [
    {
     "ename": "TypeError",
     "evalue": "func3() got an unexpected keyword argument 'd'",
     "output_type": "error",
     "traceback": [
      "\u001b[1;31m---------------------------------------------------------------------------\u001b[0m",
      "\u001b[1;31mTypeError\u001b[0m                                 Traceback (most recent call last)",
      "\u001b[1;32m<ipython-input-5-5bfd87fdf04b>\u001b[0m in \u001b[0;36m<module>\u001b[1;34m\u001b[0m\n\u001b[0;32m      1\u001b[0m \u001b[1;31m# 인수를 지정해서 함수를 호출할때 가인수 목록에 있는 인수를 지정해야하고 가인수 목록에 없으면 에러가 발생된다.\u001b[0m\u001b[1;33m\u001b[0m\u001b[1;33m\u001b[0m\u001b[1;33m\u001b[0m\u001b[0m\n\u001b[1;32m----> 2\u001b[1;33m \u001b[0mfunc3\u001b[0m\u001b[1;33m(\u001b[0m\u001b[0mb\u001b[0m\u001b[1;33m=\u001b[0m\u001b[1;36m100\u001b[0m\u001b[1;33m,\u001b[0m \u001b[0mc\u001b[0m\u001b[1;33m=\u001b[0m \u001b[1;36m200\u001b[0m \u001b[1;33m,\u001b[0m\u001b[0md\u001b[0m \u001b[1;33m=\u001b[0m\u001b[1;36m300\u001b[0m\u001b[1;33m)\u001b[0m\u001b[1;33m\u001b[0m\u001b[1;33m\u001b[0m\u001b[0m\n\u001b[0m",
      "\u001b[1;31mTypeError\u001b[0m: func3() got an unexpected keyword argument 'd'"
     ]
    }
   ],
   "source": [
    "# 인수를 지정해서 함수를 호출할때 가인수 목록에 있는 인수를 지정해야하고 가인수 목록에 없으면 에러가 발생된다.\n",
    "func3(b=100, c= 200 ,d =300)"
   ]
  },
  {
   "cell_type": "code",
   "execution_count": 6,
   "id": "75bf4d53",
   "metadata": {},
   "outputs": [
    {
     "ename": "SyntaxError",
     "evalue": "positional argument follows keyword argument (<ipython-input-6-ad2edcbad3ba>, line 2)",
     "output_type": "error",
     "traceback": [
      "\u001b[1;36m  File \u001b[1;32m\"<ipython-input-6-ad2edcbad3ba>\"\u001b[1;36m, line \u001b[1;32m2\u001b[0m\n\u001b[1;33m    func3(a=100,b=200,300)\u001b[0m\n\u001b[1;37m                     ^\u001b[0m\n\u001b[1;31mSyntaxError\u001b[0m\u001b[1;31m:\u001b[0m positional argument follows keyword argument\n"
     ]
    }
   ],
   "source": [
    "# 인수를 지정해서 함수를 호출할 때 인수를 부분 적으로 지정하면 에러가 발생된다.\n",
    "func3(a=100,b=200,300)"
   ]
  },
  {
   "cell_type": "code",
   "execution_count": null,
   "id": "5b9840d9",
   "metadata": {},
   "outputs": [],
   "source": []
  },
  {
   "cell_type": "code",
   "execution_count": null,
   "id": "28c4a542",
   "metadata": {},
   "outputs": [],
   "source": []
  },
  {
   "cell_type": "code",
   "execution_count": null,
   "id": "c65a926e",
   "metadata": {},
   "outputs": [],
   "source": []
  }
 ],
 "metadata": {
  "kernelspec": {
   "display_name": "Python 3",
   "language": "python",
   "name": "python3"
  },
  "language_info": {
   "codemirror_mode": {
    "name": "ipython",
    "version": 3
   },
   "file_extension": ".py",
   "mimetype": "text/x-python",
   "name": "python",
   "nbconvert_exporter": "python",
   "pygments_lexer": "ipython3",
   "version": "3.6.8"
  }
 },
 "nbformat": 4,
 "nbformat_minor": 5
}
