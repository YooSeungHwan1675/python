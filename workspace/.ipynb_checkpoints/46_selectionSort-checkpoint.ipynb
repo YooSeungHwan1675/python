{
 "cells": [
  {
   "cell_type": "markdown",
   "id": "349cfe70",
   "metadata": {},
   "source": [
    "selection sort(선택 정렬, 교환법) 알고리즘  \n",
    "  \n",
    "선택정렬은 i 번째 데이터를 선택해서 나머지 데이터(j 번쨰)와 비교하며 정렬한다  \n",
    "정렬할 데이터가 n개 일 경우 회전수는 n-1 번이된다 => 데이터가 5개면 회전수는 4번이다.  \n",
    "<img src=\"./images/seSort1.png\" align=\"left\">\n"
   ]
  },
  {
   "cell_type": "markdown",
   "id": "a986813e",
   "metadata": {},
   "source": [
    "<img src=\"./images/seSort2.png\" align=\"left\">"
   ]
  },
  {
   "cell_type": "markdown",
   "id": "8e4a23d6",
   "metadata": {},
   "source": [
    "<img src=\"./images/seSort3.png\" align=\"left\">"
   ]
  },
  {
   "cell_type": "code",
   "execution_count": 1,
   "id": "d18a1edd",
   "metadata": {},
   "outputs": [
    {
     "name": "stdout",
     "output_type": "stream",
     "text": [
      "[8, 3, 4, 9, 1]\n",
      "[1, 3, 4, 8, 9]\n"
     ]
    }
   ],
   "source": [
    "def sele_sort(ss):\n",
    "    for i in range(len(ss)):\n",
    "        for j in range(i+1,len(ss)):\n",
    "            if(ss[j]<ss[i]):\n",
    "                temp=ss[i]\n",
    "                ss[i]=ss[j]\n",
    "                ss[j]=temp\n",
    "ss = [8,3,4,9,1]\n",
    "print(ss)\n",
    "sele_sort(ss)\n",
    "print(ss)"
   ]
  },
  {
   "cell_type": "code",
   "execution_count": 7,
   "id": "e2aeafa3",
   "metadata": {},
   "outputs": [
    {
     "name": "stdout",
     "output_type": "stream",
     "text": [
      "[i = 0 , j = 1][i = 0 , j = 2][i = 0 , j = 3][i = 0 , j = 4]\n",
      "[i = 1 , j = 2][i = 1 , j = 3][i = 1 , j = 4]\n",
      "[i = 2 , j = 3][i = 2 , j = 4]\n",
      "[i = 3 , j = 4]\n"
     ]
    }
   ],
   "source": [
    "n = 5\n",
    "for i in range (n-1):\n",
    "    for j in range(i + 1, n):\n",
    "        print(f'[i = {i} , j = {j}]', end ='')\n",
    "    print()"
   ]
  },
  {
   "cell_type": "code",
   "execution_count": 17,
   "id": "7977e79c",
   "metadata": {},
   "outputs": [],
   "source": [
    "def selectionSortAsc(data):\n",
    "    for i in range(len(data)):\n",
    "        for j in range(i+1,len(data)):\n",
    "            # 오름차순 정렬 => 앞 (i번째)의 데이터가 뒤 (j 번째)의 데이터보다 크면 데이터를 교환한다.\n",
    "            # 내림차순 정렬 = >  앞(i번째)의 데이터가 뒤(j번째)의 데이터보다 작으면 데이터를 교환한다.\n",
    "            if(data[j]<data[i]):\n",
    "#                temp=data[i]\n",
    "#                data[i]=data[j]\n",
    "#                data[j]=temp\n",
    "                data[i], data[j] = data[j],data[i]\n",
    "            # ======= if\n",
    "        # ======= for j => 회전종료\n",
    "#        print(f'{i+1}회전결과:{data}')\n",
    "    # ================ for i  종료\n",
    "#    print(f'정렬결과 :{data}')\n",
    "    return data"
   ]
  },
  {
   "cell_type": "code",
   "execution_count": 20,
   "id": "573ebcdf",
   "metadata": {},
   "outputs": [
    {
     "name": "stdout",
     "output_type": "stream",
     "text": [
      "[8, 3, 4, 9, 1]\n",
      "정렬 결과 :None\n"
     ]
    }
   ],
   "source": [
    "data = [8,3,4,9,1]\n",
    "print(data)\n",
    "result = selectionSortAsc(data)\n",
    "print(f'정렬 결과 :{result}')"
   ]
  },
  {
   "cell_type": "code",
   "execution_count": null,
   "id": "33d26fa3",
   "metadata": {},
   "outputs": [],
   "source": []
  },
  {
   "cell_type": "code",
   "execution_count": null,
   "id": "d486001b",
   "metadata": {},
   "outputs": [],
   "source": []
  },
  {
   "cell_type": "code",
   "execution_count": null,
   "id": "6e34b6d0",
   "metadata": {},
   "outputs": [],
   "source": []
  },
  {
   "cell_type": "code",
   "execution_count": null,
   "id": "5179b15f",
   "metadata": {},
   "outputs": [],
   "source": []
  },
  {
   "cell_type": "code",
   "execution_count": null,
   "id": "3c0bcc86",
   "metadata": {},
   "outputs": [],
   "source": []
  }
 ],
 "metadata": {
  "kernelspec": {
   "display_name": "Python 3",
   "language": "python",
   "name": "python3"
  },
  "language_info": {
   "codemirror_mode": {
    "name": "ipython",
    "version": 3
   },
   "file_extension": ".py",
   "mimetype": "text/x-python",
   "name": "python",
   "nbconvert_exporter": "python",
   "pygments_lexer": "ipython3",
   "version": "3.6.8"
  }
 },
 "nbformat": 4,
 "nbformat_minor": 5
}
