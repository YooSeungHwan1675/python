{
 "cells": [
  {
   "cell_type": "markdown",
   "id": "f077b28c",
   "metadata": {},
   "source": []
  },
  {
   "cell_type": "markdown",
   "id": "651c1283",
   "metadata": {},
   "source": [
    "<img src=\"./images/bu5.png\" align=\"left\" width=\"800\">"
   ]
  },
  {
   "cell_type": "markdown",
   "id": "be0dbabf",
   "metadata": {},
   "source": [
    "<img src=\"./images/bu6.png\" align=\"left\" width=\"700\">"
   ]
  },
  {
   "cell_type": "code",
   "execution_count": null,
   "id": "52b7d6c5",
   "metadata": {},
   "outputs": [],
   "source": [
    "data = [9,1,3,4,8]\n",
    "for i in range(len(data) -1):\n",
    "    # ⓐ => 회전(정렬) 작업이 시작되기 전에 flag 변수를 0으로 초기화한다 .\n",
    "    flag = 0\n",
    "    for j in range(len(data) -1):\n",
    "        flag = True\n",
    "        for j in range(len(data) -1 -i):\n",
    "            if data[j]"
   ]
  },
  {
   "cell_type": "code",
   "execution_count": null,
   "id": "e9ed8cc2",
   "metadata": {},
   "outputs": [],
   "source": []
  },
  {
   "cell_type": "code",
   "execution_count": null,
   "id": "5308d450",
   "metadata": {},
   "outputs": [],
   "source": []
  }
 ],
 "metadata": {
  "kernelspec": {
   "display_name": "Python 3",
   "language": "python",
   "name": "python3"
  },
  "language_info": {
   "codemirror_mode": {
    "name": "ipython",
    "version": 3
   },
   "file_extension": ".py",
   "mimetype": "text/x-python",
   "name": "python",
   "nbconvert_exporter": "python",
   "pygments_lexer": "ipython3",
   "version": "3.6.8"
  }
 },
 "nbformat": 4,
 "nbformat_minor": 5
}
