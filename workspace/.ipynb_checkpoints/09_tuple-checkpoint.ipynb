{
 "cells": [
  {
   "cell_type": "markdown",
   "id": "26cef216",
   "metadata": {},
   "source": [
    "튜플 만들기 \n",
    "\n",
    "튜플은 리스트와 거의 비슷하지만 약간의 차이가 있다 .   \n",
    "리스트는 데이터를 []로 감싸지만 튜플은 ()로 감싼다,   \n",
    "리스트는 데이터 요소의 수정 및 삭제가 가능하지만   \n",
    "튜플은 불가능하다.  "
   ]
  },
  {
   "cell_type": "code",
   "execution_count": null,
   "id": "4105d219",
   "metadata": {},
   "outputs": [],
   "source": [
    "# 빈 튜플 만들기 \n",
    "a= ()\n",
    "print(type(a))\n",
    "print(a)\n",
    "print(\"=\"*80)\n",
    "# 빈 튜플은 생성자 함수를 사용해서도 만들 수 있다 . \n",
    "b= tuple()\n",
    "print(type(b))\n",
    "print(b)"
   ]
  },
  {
   "cell_type": "code",
   "execution_count": null,
   "id": "69a9fe8f",
   "metadata": {},
   "outputs": [],
   "source": [
    "# 데이터가 1개인 리스트 \n",
    "a = [1]\n",
    "print(type(a))\n",
    "print(a)\n",
    "print(\"=\"*80)\n",
    "\n",
    "# 데이터가 1개인 튜플을 만들려는 경우 ()만 사용하면 ()를 튜플로 인식하는 것이 아니고 일반 연산식의 우선순위 지정에 \n",
    "# 사용하는 ()로 인식한다.\n",
    "b = (1)\n",
    "print(type(b))\n",
    "print(b)\n",
    "print(\"=\"*80)\n",
    "\n",
    "# 데이터가 1개인 튜플\n",
    "# 데이터가 1개인 튜플을 만들려면() 안의 데이터 뒤에 ',' 를 반드시 써야한다.\n",
    "c = (1,)\n",
    "print(type(c))\n",
    "print(c)\n",
    "print(\"=\"*80)"
   ]
  },
  {
   "cell_type": "code",
   "execution_count": null,
   "id": "65a992ac",
   "metadata": {},
   "outputs": [],
   "source": [
    "# 초기치를 가지는 튜플 \n",
    "a = (1,2,3)\n",
    "print(a)\n",
    "b =('a','b','c')\n",
    "print(b)\n",
    "c = (1,'a',2,'b')\n",
    "print(c)\n",
    "d= ('a','b','c',(1,2,3))\n",
    "print(d)\n",
    "e = ('a','b','c',[1,2,3])\n",
    "print(e)\n",
    "f= ['a','b','c',(1,2,3)]\n",
    "print(f)"
   ]
  },
  {
   "cell_type": "markdown",
   "id": "334e7ca1",
   "metadata": {},
   "source": [
    "튜플은 리스트와 같이 인덱싱과 슬라이싱 가능하다."
   ]
  },
  {
   "cell_type": "code",
   "execution_count": null,
   "id": "9f4811df",
   "metadata": {},
   "outputs": [],
   "source": [
    "a= ('a','b',('ab','cd'))\n",
    "print(a)\n",
    "print(a[0])\n",
    "print(a[2])\n",
    "print(a[-1])\n",
    "print(a[-1][1])\n",
    "print(a[0:2])\n",
    "print(a[:2])\n",
    "print(a[1:2])\n",
    "print(a[1:3])\n",
    "print(a[1:])\n",
    "print(a[:])\n",
    "print(a[::-1])"
   ]
  },
  {
   "cell_type": "markdown",
   "id": "c5dabef0",
   "metadata": {},
   "source": [
    "튜플은 리스트와 같이 덧셈(연결) 연산과 곱셈(반복) 연산이 가능하다."
   ]
  },
  {
   "cell_type": "code",
   "execution_count": null,
   "id": "2d4e6b62",
   "metadata": {},
   "outputs": [],
   "source": [
    "a = (1,2,3)\n",
    "print(a + (4,5,6))\n",
    "print(a *3)"
   ]
  },
  {
   "cell_type": "markdown",
   "id": "5852cc4e",
   "metadata": {},
   "source": [
    "튜플을 만들때 ()로 데이터를 묶지 않고 하나의 변수에 ','로 여러개의 데이터를 구분해서 넣으면 튜플로 인식한다."
   ]
  },
  {
   "cell_type": "code",
   "execution_count": null,
   "id": "b9c56bd1",
   "metadata": {},
   "outputs": [],
   "source": [
    "a = 1,2,3,4,5\n",
    "print(type(a))\n",
    "print(a)"
   ]
  },
  {
   "cell_type": "markdown",
   "id": "e02e020b",
   "metadata": {},
   "source": [
    "튜플은 리스트와 다르게 데이터의 수정 및 삭제를 할 수 없으므로 에러가 발생된다."
   ]
  },
  {
   "cell_type": "code",
   "execution_count": null,
   "id": "95acc2cc",
   "metadata": {},
   "outputs": [],
   "source": [
    "a = 1, 2, 3, 4, 5\n",
    "del a[0]"
   ]
  },
  {
   "cell_type": "code",
   "execution_count": null,
   "id": "588371d5",
   "metadata": {},
   "outputs": [],
   "source": [
    "# del 명령을 사용해서 튜플 자체를 삭제하는것은 가능하다.\n",
    "a = 1,2,3,4,5\n",
    "print(a)\n",
    "del a\n",
    "print(a)"
   ]
  },
  {
   "cell_type": "code",
   "execution_count": null,
   "id": "82a1740b",
   "metadata": {},
   "outputs": [],
   "source": []
  },
  {
   "cell_type": "code",
   "execution_count": null,
   "id": "6b1259a0",
   "metadata": {},
   "outputs": [],
   "source": []
  },
  {
   "cell_type": "code",
   "execution_count": null,
   "id": "e049c2b7",
   "metadata": {},
   "outputs": [],
   "source": []
  },
  {
   "cell_type": "code",
   "execution_count": null,
   "id": "46cad8fd",
   "metadata": {},
   "outputs": [],
   "source": []
  },
  {
   "cell_type": "code",
   "execution_count": null,
   "id": "31e7dfed",
   "metadata": {},
   "outputs": [],
   "source": []
  }
 ],
 "metadata": {
  "kernelspec": {
   "display_name": "Python 3",
   "language": "python",
   "name": "python3"
  },
  "language_info": {
   "codemirror_mode": {
    "name": "ipython",
    "version": 3
   },
   "file_extension": ".py",
   "mimetype": "text/x-python",
   "name": "python",
   "nbconvert_exporter": "python",
   "pygments_lexer": "ipython3",
   "version": "3.6.8"
  }
 },
 "nbformat": 4,
 "nbformat_minor": 5
}
