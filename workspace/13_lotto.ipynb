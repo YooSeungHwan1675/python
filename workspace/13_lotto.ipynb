{
 "cells": [
  {
   "cell_type": "code",
   "execution_count": 2,
   "id": "4b98f7eb",
   "metadata": {},
   "outputs": [],
   "source": [
    "import random"
   ]
  },
  {
   "cell_type": "code",
   "execution_count": 43,
   "id": "dfd44616",
   "metadata": {},
   "outputs": [
    {
     "name": "stdout",
     "output_type": "stream",
     "text": [
      "1등 번호: [15, 27, 2, 45, 1, 6]\n",
      "32\n",
      "1등 번호: [15, 27, 2, 45, 1, 6] 보너스 번호 32 \n"
     ]
    }
   ],
   "source": [
    "# 로또 1등 번호를 기억할 빈 리스트를 만든다.\n",
    "lotto = list()\n",
    "# 1등 번호\n",
    "while True:\n",
    "    # 1~45 사이의 난수를 발생시킨다.\n",
    "    number = random.randint(1,45)\n",
    "    # 리스트에 중복되는 번호가 없다면 발생된 난수를 리스트에 추가한다 .\n",
    "    if number not in lotto:\n",
    "        lotto.append(number)\n",
    "    #======== if\n",
    "    # 리스트에 중복되지않는 숫자가 6개 저장되면 무한 루프를 탈출 시킨다 .\n",
    "    if len(lotto) ==6:\n",
    "        break\n",
    "    # ======== if\n",
    "# ===== while\n",
    "print('1등 번호: {}'.format(lotto))\n",
    "\n",
    "# 보너스 번호\n",
    "while True:\n",
    "    bonus = random.randint(1,45)\n",
    "    print(bonus)\n",
    "    if bonus not in lotto:\n",
    "        break\n",
    "    # ===============\n",
    "#=======================\n",
    "print('1등 번호: {} 보너스 번호 {} '.format(lotto , bonus))"
   ]
  },
  {
   "cell_type": "code",
   "execution_count": null,
   "id": "e5488602",
   "metadata": {},
   "outputs": [],
   "source": []
  },
  {
   "cell_type": "code",
   "execution_count": null,
   "id": "03865a68",
   "metadata": {},
   "outputs": [],
   "source": []
  },
  {
   "cell_type": "code",
   "execution_count": null,
   "id": "71bdb3f4",
   "metadata": {},
   "outputs": [],
   "source": []
  },
  {
   "cell_type": "code",
   "execution_count": null,
   "id": "b97b2303",
   "metadata": {},
   "outputs": [],
   "source": []
  },
  {
   "cell_type": "code",
   "execution_count": null,
   "id": "e8c02455",
   "metadata": {},
   "outputs": [],
   "source": []
  },
  {
   "cell_type": "code",
   "execution_count": null,
   "id": "423d2d67",
   "metadata": {},
   "outputs": [],
   "source": []
  },
  {
   "cell_type": "code",
   "execution_count": null,
   "id": "2d8cd2a5",
   "metadata": {},
   "outputs": [],
   "source": []
  }
 ],
 "metadata": {
  "kernelspec": {
   "display_name": "Python 3",
   "language": "python",
   "name": "python3"
  },
  "language_info": {
   "codemirror_mode": {
    "name": "ipython",
    "version": 3
   },
   "file_extension": ".py",
   "mimetype": "text/x-python",
   "name": "python",
   "nbconvert_exporter": "python",
   "pygments_lexer": "ipython3",
   "version": "3.6.8"
  }
 },
 "nbformat": 4,
 "nbformat_minor": 5
}
