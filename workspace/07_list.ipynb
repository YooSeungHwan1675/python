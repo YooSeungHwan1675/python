{
 "cells": [
  {
   "cell_type": "markdown",
   "id": "2109ea2d",
   "metadata": {},
   "source": [
    "리스트 만들기\n",
    "\n",
    "리스트는 데이터를 []로 감싸주고 데이터와 데이터는 ','로 구분한다."
   ]
  },
  {
   "cell_type": "code",
   "execution_count": 7,
   "id": "d43a1616",
   "metadata": {},
   "outputs": [
    {
     "name": "stdout",
     "output_type": "stream",
     "text": [
      "<class 'list'>\n",
      "[]\n",
      "================================================================================\n",
      "<class 'list'>\n",
      "[]\n"
     ]
    }
   ],
   "source": [
    "#빈 리스트 만들기\n",
    "a = [] \n",
    "print(type(a))\n",
    "print(a)\n",
    "print('='*80)\n",
    "\n",
    "# 빈 리스트는 생성자 함수를 사용해서도 만들 수 있다.\n",
    "b = list() \n",
    "print(type(b))\n",
    "print(b)\n"
   ]
  },
  {
   "cell_type": "code",
   "execution_count": 15,
   "id": "e2a073b8",
   "metadata": {},
   "outputs": [
    {
     "name": "stdout",
     "output_type": "stream",
     "text": [
      "<class 'list'>\n",
      "[1, 2, 3]\n",
      "================================================================================\n",
      "<class 'list'>\n",
      "['a', 'b', 'c']\n",
      "================================================================================\n",
      "<class 'list'>\n",
      "[100, 'aaa', 200, 'bbb']\n",
      "================================================================================\n",
      "<class 'list'>\n",
      "[[100, 'aaa'], [200, 'bbb']]\n",
      "================================================================================\n"
     ]
    }
   ],
   "source": [
    "# 초기치를 가지는 리스트 \n",
    "a = [1,2,3]\n",
    "print(type(a))\n",
    "print(a)\n",
    "print('='*80)\n",
    "\n",
    "b=['a', 'b', 'c']\n",
    "print(type(b))\n",
    "print(b)\n",
    "print('='*80)\n",
    "\n",
    "c=[100,'aaa',200,'bbb']\n",
    "print(type(c))\n",
    "print(c)\n",
    "print('='*80)\n",
    "\n",
    "d = [[100,'aaa'],[200,'bbb']]\n",
    "print(type(d))\n",
    "print(d)\n",
    "print('='*80)"
   ]
  },
  {
   "cell_type": "markdown",
   "id": "2bec2cb9",
   "metadata": {},
   "source": [
    "와우 라이브러리를 설치하려면 커맨드 창에서 pip install을 사용해서 설치한다.  \n",
    "커맨드 창 =>  pip install numpy  \n",
    "jupyter notebook => !pip install numpy  "
   ]
  },
  {
   "cell_type": "code",
   "execution_count": 16,
   "id": "90b6fca6",
   "metadata": {},
   "outputs": [
    {
     "name": "stdout",
     "output_type": "stream",
     "text": [
      "Requirement already satisfied: numpy in c:\\python\\lib\\site-packages (1.19.5)\n"
     ]
    }
   ],
   "source": [
    "!pip install numpy"
   ]
  },
  {
   "cell_type": "code",
   "execution_count": 19,
   "id": "087d464b",
   "metadata": {},
   "outputs": [],
   "source": [
    "import numpy as np"
   ]
  },
  {
   "cell_type": "code",
   "execution_count": 22,
   "id": "ac98c34e",
   "metadata": {},
   "outputs": [
    {
     "name": "stdout",
     "output_type": "stream",
     "text": [
      "<class 'numpy.ndarray'>\n",
      "[['100' 'aaa']\n",
      " ['200' 'bbb']]\n"
     ]
    }
   ],
   "source": [
    "array = np.array(d)\n",
    "print(type(array))\n",
    "print(array)"
   ]
  }
 ],
 "metadata": {
  "kernelspec": {
   "display_name": "Python 3",
   "language": "python",
   "name": "python3"
  },
  "language_info": {
   "codemirror_mode": {
    "name": "ipython",
    "version": 3
   },
   "file_extension": ".py",
   "mimetype": "text/x-python",
   "name": "python",
   "nbconvert_exporter": "python",
   "pygments_lexer": "ipython3",
   "version": "3.6.8"
  }
 },
 "nbformat": 4,
 "nbformat_minor": 5
}
