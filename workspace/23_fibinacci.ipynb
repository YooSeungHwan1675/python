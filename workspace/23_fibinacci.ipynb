{
 "cells": [
  {
   "cell_type": "markdown",
   "id": "dd32245d",
   "metadata": {},
   "source": [
    "<img src=\"./images/fibo.png\">"
   ]
  },
  {
   "cell_type": "markdown",
   "id": "017f549d",
   "metadata": {},
   "source": [
    "<img src=\"./images/fibo2.png\">"
   ]
  },
  {
   "cell_type": "code",
   "execution_count": 4,
   "id": "5da43945",
   "metadata": {},
   "outputs": [
    {
     "name": "stdout",
     "output_type": "stream",
     "text": [
      "피보나치 수열의 합계를 계산할 항을 입력하세요 : 12\n",
      "피보나치 수열 12번째 항까지의 합계 : 376\n"
     ]
    }
   ],
   "source": [
    "a = 1 # 1번째 항 초기화 , 피보나치 수열의 n-2 번쨰 항의 값\n",
    "b = 1 # 2번째 항 초기화, 피보나치 수열의 n-1 번째 항의 값\n",
    "y = 2 # 1번째 항과 2번째 항의 합계 => n 번째 항 까지의 피보나치 수열의 합계를 기억할 변수 \n",
    "\n",
    "# 피보나치 수열의 합계를 계산할 항(n)을 입력 받는다. \n",
    "n = int(input ('피보나치 수열의 합계를 계산할 항을 입력하세요 : '))\n",
    "\n",
    "# 1번째 항과 2번째 항은 이미 합계가 계산되었다는 가정하에 작업을 시작하므로 3번째 항 부터 n 번째 항까지 반복하며 \n",
    "# 합계를 계산한다.\n",
    "for k in range(3, n +1):\n",
    "    c = a + b # k 번째 항의 피보나치 수를 계산한다.\n",
    "    y += c # k 번째 항까지 피보나치 수열의 합계를 계산한다.\n",
    "    # 다음 항의 값을 계산하기 위해 현재 반복의 n-1 번째 항의 값(b)을 다음 반복의 n-2 번째 항의 값(a)에 넣어준다.\n",
    "    a=b\n",
    "    # 다음 항의 값을 계산하기 위해 현재 반복의 n 번째 항의 값(c)을 다음 반복의 n-1 번째 항의 값(b)에 넣어준다.\n",
    "    b = c\n",
    "# =============== for\n",
    "print(f'피보나치 수열 {n}번째 항까지의 합계 : {y}')"
   ]
  },
  {
   "cell_type": "markdown",
   "id": "dbeb4be8",
   "metadata": {},
   "source": [
    "N<sub>2</sub>  N<sup>2</sup>   $n_2^3$"
   ]
  },
  {
   "cell_type": "code",
   "execution_count": 17,
   "id": "73dd22db",
   "metadata": {},
   "outputs": [
    {
     "name": "stdout",
     "output_type": "stream",
     "text": [
      "피보나치 수열의 합계를 계산할 항을 입력하세요: 8\n",
      "피보나치 수열8번째 항 까지의 합계: 54 =[1, 1, 2, 3, 5, 8, 13, 21]\n"
     ]
    }
   ],
   "source": [
    "# 피보나치 수열의 1번째 항과 2번째 항의 값으로 초기화된 리스트를 만든다. => 3번째 항 부터의 값을 추가한다. \n",
    "f = [1,1]\n",
    "n = int(input('피보나치 수열의 합계를 계산할 항을 입력하세요: '))\n",
    "for k in range(3, n+1):\n",
    "    f.append(f[k-3]+f[k-2])\n",
    "print(f'피보나치 수열{n}번째 항 까지의 합계: {sum(f)} ={f}')"
   ]
  },
  {
   "cell_type": "code",
   "execution_count": 18,
   "id": "0d8efe55",
   "metadata": {},
   "outputs": [
    {
     "name": "stdout",
     "output_type": "stream",
     "text": [
      "피보나치 수열8번쨰 항 까지의 합계 : 54 = 1 + 1 + 2 + 3 + 5 + 8 + 13 + 21\n"
     ]
    }
   ],
   "source": [
    "# 피보나치 수열의 8번째 항 까지의 합계 : 54 = 1+1+2+3+5+8+13+21\n",
    "print(f'피보나치 수열{n}번쨰 항 까지의 합계 : {sum(f)} = ', end='')\n",
    "for i in range(len(f) -1):\n",
    "    print(f[i] , end=' + ')\n",
    "print(f[-1])"
   ]
  },
  {
   "cell_type": "code",
   "execution_count": 19,
   "id": "ea7c5724",
   "metadata": {},
   "outputs": [
    {
     "name": "stdout",
     "output_type": "stream",
     "text": [
      "피보나치 수열8번쨰 항 까지의 합계 : 54 = 1 + 1 + 2 + 3 + 5 + 8 + 13 + 21"
     ]
    }
   ],
   "source": [
    "print(f'피보나치 수열{n}번쨰 항 까지의 합계 : {sum(f)} = ', end='')\n",
    "for i in range(len(f)):\n",
    "    if i >0:\n",
    "        print(' + ', end='')\n",
    "    print(f[i],end='')"
   ]
  },
  {
   "cell_type": "code",
   "execution_count": 24,
   "id": "e74fee88",
   "metadata": {},
   "outputs": [
    {
     "name": "stdout",
     "output_type": "stream",
     "text": [
      "피보나치 수열 8번째 항 까지의 합계: 54 = 1 + 1 + 2 + 3 + 5 + 8 + 13 + 21\n",
      "피보나치 수열 8번쨰 항 까지의 합계: 54 = 1 + 1 + 2 + 3 + 5 + 8 + 13 + 21\n"
     ]
    }
   ],
   "source": [
    "p=[]\n",
    "#for i in range(len(f)):\n",
    "#    p.append(str(f[i]))\n",
    "#p = [str(f[i]) for i  in range(len(f))]\n",
    "p = [str(i) for i  in f]\n",
    "print(f'피보나치 수열 {n}번째 항 까지의 합계: {sum(f)} = {\" + \".join(p)}')\n",
    "print('피보나치 수열 {}번쨰 항 까지의 합계: {} = {}'.format(n,sum(f), ' + '.join(p)))"
   ]
  },
  {
   "cell_type": "code",
   "execution_count": 25,
   "id": "15a2a024",
   "metadata": {},
   "outputs": [
    {
     "name": "stdout",
     "output_type": "stream",
     "text": [
      "피보나치 수열 8번째 항 까지의 합계: 54 = 1 + 1 + 2 + 3 + 5 + 8 + 13 + 21\n"
     ]
    }
   ],
   "source": [
    "print(f'피보나치 수열 {n}번째 항 까지의 합계: {sum(f)} = ', end='')\n",
    "for i in range(len(f)):\n",
    "    print(f[i], end= ' + ' if i< len(f) - 1 else '\\n')"
   ]
  }
 ],
 "metadata": {
  "kernelspec": {
   "display_name": "Python 3",
   "language": "python",
   "name": "python3"
  },
  "language_info": {
   "codemirror_mode": {
    "name": "ipython",
    "version": 3
   },
   "file_extension": ".py",
   "mimetype": "text/x-python",
   "name": "python",
   "nbconvert_exporter": "python",
   "pygments_lexer": "ipython3",
   "version": "3.6.8"
  }
 },
 "nbformat": 4,
 "nbformat_minor": 5
}
