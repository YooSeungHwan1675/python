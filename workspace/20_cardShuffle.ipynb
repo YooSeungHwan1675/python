{
 "cells": [
  {
   "cell_type": "code",
   "execution_count": 2,
   "id": "a5f46f72",
   "metadata": {},
   "outputs": [],
   "source": [
    "import random"
   ]
  },
  {
   "cell_type": "code",
   "execution_count": 14,
   "id": "6527cfd7",
   "metadata": {},
   "outputs": [],
   "source": [
    "# 카드 출력에 사용할 숫자와 무늬를 기억하는 리스트 또는 튜플을 만든다.\n",
    "number = ['A','2','3','4','5','6','7','8','9','10','J','Q','K']\n",
    "symbol = ['♠','◇','♥','♧']"
   ]
  },
  {
   "cell_type": "code",
   "execution_count": 18,
   "id": "c6e781bf",
   "metadata": {},
   "outputs": [
    {
     "name": "stdout",
     "output_type": "stream",
     "text": [
      "♠ A ♠ 2 ♠ 3 ♠ 4 ♠ 5 ♠ 6 ♠ 7 ♠ 8 ♠ 9 ♠10 ♠ J ♠ Q ♠ K \n",
      "◇ A ◇ 2 ◇ 3 ◇ 4 ◇ 5 ◇ 6 ◇ 7 ◇ 8 ◇ 9 ◇10 ◇ J ◇ Q ◇ K \n",
      "♥ A ♥ 2 ♥ 3 ♥ 4 ♥ 5 ♥ 6 ♥ 7 ♥ 8 ♥ 9 ♥10 ♥ J ♥ Q ♥ K \n",
      "♧ A ♧ 2 ♧ 3 ♧ 4 ♧ 5 ♧ 6 ♧ 7 ♧ 8 ♧ 9 ♧10 ♧ J ♧ Q ♧ K \n",
      "\n",
      "======================================== 섞기 전\n",
      "♥ 2 ♥ K ♧ 4 ♠ 4 ◇10 ♠ 2 ♥ 3 ♥ J ◇ 7 ◇ 2 ♠ A ♠10 ♧ 6 \n",
      "◇ Q ◇ 5 ♠ 9 ♠ 6 ♧ 3 ♧ 7 ♥ 7 ♧ A ♧ Q ♥ 4 ◇ 8 ♥ 8 ♠ 3 \n",
      "♧ 2 ♥ Q ♠ J ♥ 9 ♠ 7 ◇ A ◇ 3 ♠ Q ♠ K ♥ A ♠ 8 ♥ 6 ♥10 \n",
      "♧10 ◇ 9 ◇ 6 ◇ 4 ♥ 5 ♧ 8 ♧ K ♧ J ♧ 5 ◇ J ♧ 9 ♠ 5 ◇ K \n",
      "\n",
      "======================================== 섞은 후\n"
     ]
    }
   ],
   "source": [
    "import random\n",
    "\n",
    "# 카드 출력에 사용할 숫자와 무늬를 기억하는 리스트 또는 튜플을 만든다.\n",
    "number = ['A', '2', '3', '4', '5', '6', '7', '8', '9', '10', 'J', 'Q', 'K']\n",
    "symbol = ['♠', '◇', '♥', '♧']\n",
    "\n",
    "\n",
    "# 0 ~ 51 사이의 숫자가 채워진 리스트를 만든다.\n",
    "cards = [i for i in range(52)]\n",
    "# print(cards)\n",
    "\n",
    "# 섞기 전 상태를 출력한다. => 1줄 숫자 13개씩 출력한다.\n",
    "for i in range(len(cards)):\n",
    "    # print('{:2d}'.format(cards[i]), end = ' ')\n",
    "    # print('{:2s}'.format(number[cards[i] % 13]), end = ' ') # 숫자만\n",
    "    # print('{:s}'.format(symbol[cards[i] // 13]), end=' ') # 무늬만\n",
    "    print('{:s}{:>2s}'.format(symbol[cards[i] // 13], number[cards[i] % 13]), end=' ') # 무늬만\n",
    "    if (i + 1) % 13 == 0:\n",
    "        print()\n",
    "print('\\n' + '=' * 40 + ' 섞기 전')\n",
    "\n",
    "random.shuffle(cards)\n",
    "\n",
    "# 섞은 후 상태를 출력한다.\n",
    "for i in range(len(cards)):\n",
    "    print('{:s}{:>2s}'.format(symbol[cards[i] // 13], number[cards[i] % 13]), end=' ') # 무늬만\n",
    "    if (i + 1) % 13 == 0:\n",
    "        print()\n",
    "print('\\n' + '=' * 40 + ' 섞은 후')"
   ]
  }
 ],
 "metadata": {
  "kernelspec": {
   "display_name": "Python 3",
   "language": "python",
   "name": "python3"
  },
  "language_info": {
   "codemirror_mode": {
    "name": "ipython",
    "version": 3
   },
   "file_extension": ".py",
   "mimetype": "text/x-python",
   "name": "python",
   "nbconvert_exporter": "python",
   "pygments_lexer": "ipython3",
   "version": "3.6.8"
  }
 },
 "nbformat": 4,
 "nbformat_minor": 5
}
