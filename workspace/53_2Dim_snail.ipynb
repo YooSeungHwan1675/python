{
 "cells": [
  {
   "cell_type": "code",
   "execution_count": 5,
   "id": "2aed83b8",
   "metadata": {},
   "outputs": [],
   "source": [
    "def pprint(data):\n",
    "    for i in range(len(data)): # 행 출력. 4\n",
    "        for j in range(len(data[i])): # 열 출력. 5 \n",
    "            print('{:3d} '.format(data[i][j]), end=' ')\n",
    "        print()"
   ]
  },
  {
   "cell_type": "code",
   "execution_count": 6,
   "id": "9eb6a373",
   "metadata": {},
   "outputs": [
    {
     "ename": "SyntaxError",
     "evalue": "invalid syntax (<ipython-input-6-c544ad6ccccc>, line 28)",
     "output_type": "error",
     "traceback": [
      "\u001b[1;36m  File \u001b[1;32m\"<ipython-input-6-c544ad6ccccc>\"\u001b[1;36m, line \u001b[1;32m28\u001b[0m\n\u001b[1;33m    pprint(a)a = [[0] * 5 for i in range(5)]\u001b[0m\n\u001b[1;37m             ^\u001b[0m\n\u001b[1;31mSyntaxError\u001b[0m\u001b[1;31m:\u001b[0m invalid syntax\n"
     ]
    }
   ],
   "source": [
    "a = [[0] * 5 for i in range(5)]\n",
    "n = 0 # 1 ~ 25까지 1씩 증가하는 변수\n",
    "s = 1 # sw 행과 열이 1또는 -1씩 증가 및 감소 처리에 사용하는 변수\n",
    "i = 0 # 행\n",
    "j = -1 # 열\n",
    "k = 5 # 반복문의 반복 횟수 제어에 사용하는 변수\n",
    "\n",
    "# pprint(a)\n",
    "while True:\n",
    "    # 행 방향으로 숫자를 채운다.\n",
    "    for p in range(1, k + 1):\n",
    "        n += 1\n",
    "        j += s\n",
    "        a[i][j] = n\n",
    "    # ===== for p\n",
    "    # k를 1감소하고 조건에 만족하면 무한 루프를 탈출한다.\n",
    "    k -= 1\n",
    "    if k <= 0:\n",
    "        break\n",
    "    # 열 방향으로 숫자를 채운다.\n",
    "    for p in range(1, k + 1):\n",
    "        n += 1\n",
    "        i += s\n",
    "        a[i][j] = n\n",
    "    # ===== for p\n",
    "    s *= -1\n",
    "\n",
    "pprint(a)a = [[0] * 5 for i in range(5)]\n",
    "n = 0 # 1 ~ 25까지 1씩 증가하는 변수\n",
    "s = 1 # sw 행과 열이 1또는 -1씩 증가 및 감소 처리에 사용하는 변수\n",
    "i = 0 # 행\n",
    "j = -1 # 열\n",
    "k = 5 # 반복문의 반복 횟수 제어에 사용하는 변수\n",
    "\n",
    "# pprint(a)\n",
    "while True:\n",
    "    # 행 방향으로 숫자를 채운다.\n",
    "    for p in range(1, k + 1):\n",
    "        n += 1\n",
    "        j += s\n",
    "        a[i][j] = n\n",
    "    # ===== for p\n",
    "    # k를 1감소하고 조건에 만족하면 무한 루프를 탈출한다.\n",
    "    k -= 1\n",
    "    if k <= 0:\n",
    "        break\n",
    "    # 열 방향으로 숫자를 채운다.\n",
    "    for p in range(1, k + 1):\n",
    "        n += 1\n",
    "        i += s\n",
    "        a[i][j] = n\n",
    "    # ===== for p\n",
    "    s *= -1\n",
    "\n",
    "pprint(a)"
   ]
  },
  {
   "cell_type": "code",
   "execution_count": 7,
   "id": "f26a4876",
   "metadata": {},
   "outputs": [
    {
     "name": "stdout",
     "output_type": "stream",
     "text": [
      "2차원 리스트의 차수를3이상 홀수로 입력하세요: 7 8\n"
     ]
    },
    {
     "ename": "ValueError",
     "evalue": "invalid literal for int() with base 10: '7 8'",
     "output_type": "error",
     "traceback": [
      "\u001b[1;31m---------------------------------------------------------------------------\u001b[0m",
      "\u001b[1;31mValueError\u001b[0m                                Traceback (most recent call last)",
      "\u001b[1;32m<ipython-input-7-b156d785f21f>\u001b[0m in \u001b[0;36m<module>\u001b[1;34m\u001b[0m\n\u001b[0;32m      1\u001b[0m \u001b[1;32mwhile\u001b[0m \u001b[1;32mTrue\u001b[0m\u001b[1;33m:\u001b[0m\u001b[1;33m\u001b[0m\u001b[1;33m\u001b[0m\u001b[0m\n\u001b[1;32m----> 2\u001b[1;33m    \u001b[0mm\u001b[0m \u001b[1;33m=\u001b[0m \u001b[0mint\u001b[0m\u001b[1;33m(\u001b[0m\u001b[0minput\u001b[0m\u001b[1;33m(\u001b[0m\u001b[1;34m'2차원 리스트의 차수를3이상 홀수로 입력하세요: '\u001b[0m\u001b[1;33m)\u001b[0m\u001b[1;33m)\u001b[0m\u001b[1;33m\u001b[0m\u001b[1;33m\u001b[0m\u001b[0m\n\u001b[0m\u001b[0;32m      3\u001b[0m    \u001b[1;32mif\u001b[0m \u001b[0mm\u001b[0m \u001b[1;33m%\u001b[0m \u001b[1;36m2\u001b[0m \u001b[1;33m==\u001b[0m \u001b[1;36m1\u001b[0m \u001b[1;32mand\u001b[0m \u001b[0mm\u001b[0m\u001b[1;33m>=\u001b[0m\u001b[1;36m3\u001b[0m\u001b[1;33m:\u001b[0m\u001b[1;33m\u001b[0m\u001b[1;33m\u001b[0m\u001b[0m\n\u001b[0;32m      4\u001b[0m        \u001b[1;32mbreak\u001b[0m\u001b[1;33m\u001b[0m\u001b[1;33m\u001b[0m\u001b[0m\n\u001b[0;32m      5\u001b[0m    \u001b[0mprint\u001b[0m\u001b[1;33m(\u001b[0m\u001b[1;34m'2차원 리스트의 차수는 3이상 홀수로 입력해야 합니다.'\u001b[0m\u001b[1;33m)\u001b[0m\u001b[1;33m\u001b[0m\u001b[1;33m\u001b[0m\u001b[0m\n",
      "\u001b[1;31mValueError\u001b[0m: invalid literal for int() with base 10: '7 8'"
     ]
    }
   ],
   "source": [
    " while True:\n",
    "    m = int(input('2차원 리스트의 차수를3이상 홀수로 입력하세요: '))\n",
    "    if m % 2 == 1 and m>=3:\n",
    "        break\n",
    "    print('2차원 리스트의 차수는 3이상 홀수로 입력해야 합니다.')\n",
    "# ===== while\n",
    "a = [[0] * m for i in range(m)]; n = 0; s = 1; i = 0; j = -1; k = m\n",
    "\n",
    "while True:\n",
    "    # 행 방향으로 숫자를 채운다.\n",
    "    for p in range(1, k + 1):\n",
    "        n += 1\n",
    "        j += s\n",
    "        a[i][j] = n\n",
    "    # ===== for p\n",
    "    # k를 1감소하고 조건에 만족하면 무한 루프를 탈출한다.\n",
    "    k -= 1\n",
    "    if k <= 0:\n",
    "        break\n",
    "    # 열 방향으로 숫자를 채운다.\n",
    "    for p in range(1, k + 1):\n",
    "        n += 1\n",
    "        i += s\n",
    "        a[i][j] = n\n",
    "    # ===== for p\n",
    "    s *= -1\n",
    "\n",
    "pprint(a)"
   ]
  },
  {
   "cell_type": "code",
   "execution_count": null,
   "id": "e5143c36",
   "metadata": {},
   "outputs": [],
   "source": [
    "a = [[0] * 5 for _ in range(5)]\n",
    "# 2차원 리스트의 정 가운데 위치에 1이 채워져있다는가정을 하고 시작한다. \n",
    "i =2; j =2 ; n =1;a[i][j] = n ,s =1\n",
    "k =1 # 안쪽 부터 바깥쪽으로 숫자를 채우기 떄문에 반복 횟수를 제어하는 변수는 1로 시작한다.\n",
    "flag = False\n",
    "\n",
    "while True:\n",
    "    # k += 1 # 3시 방향부터 숫자를 채운다.\n",
    "    for p in range(1,k):\n",
    "        n+=1 ; j +=s\n",
    "        if n "
   ]
  }
 ],
 "metadata": {
  "kernelspec": {
   "display_name": "Python 3",
   "language": "python",
   "name": "python3"
  },
  "language_info": {
   "codemirror_mode": {
    "name": "ipython",
    "version": 3
   },
   "file_extension": ".py",
   "mimetype": "text/x-python",
   "name": "python",
   "nbconvert_exporter": "python",
   "pygments_lexer": "ipython3",
   "version": "3.6.8"
  }
 },
 "nbformat": 4,
 "nbformat_minor": 5
}
