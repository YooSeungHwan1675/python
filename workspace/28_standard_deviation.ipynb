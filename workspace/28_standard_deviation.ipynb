{
 "cells": [
  {
   "cell_type": "markdown",
   "id": "65929fff",
   "metadata": {},
   "source": [
    "분산, 표준편차  \n",
    "  \n",
    "n개의 데이터(999가 입력되기 전 까지)를 입력받아 최대 값과 최소값을 제외한 나머지 데이터의 표준편차를계산하는 프로그램\n",
    "***\n",
    "표준편차 공식  \n",
    "$\\sqrt{\\frac{\\sum_{i=1}^n(x_i - \\bar{x})^2}{N}}$\n",
    "<img src=\"./images/\" align=\"left\"/>"
   ]
  },
  {
   "cell_type": "markdown",
   "id": "9ae57796",
   "metadata": {},
   "source": [
    "999가 입력되기 전 까지 데이터 입력받기"
   ]
  },
  {
   "cell_type": "code",
   "execution_count": null,
   "id": "0864069d",
   "metadata": {},
   "outputs": [],
   "source": [
    "data = []\n",
    "while True:\n",
    "    n = int(input('n: '))\n",
    "    if n == 999:\n",
    "        break\n",
    "    data.append(n)"
   ]
  },
  {
   "cell_type": "code",
   "execution_count": 5,
   "id": "20933244",
   "metadata": {},
   "outputs": [
    {
     "name": "stdout",
     "output_type": "stream",
     "text": [
      "최대값: 91, 최소값: 35\n"
     ]
    }
   ],
   "source": [
    "# data = [35,91,75,62,84]\n",
    "data = [35,62,75,84,91]\n",
    "# 최대값을 기억할 변수는 아주작은 값을, 최소값을 기억할 변수는 아주 큰 값을 초기치로 넣어주고 비교한다.\n",
    "big = 0\n",
    "small = 100\n",
    "for score in data:\n",
    "    if score > big:\n",
    "        big = score\n",
    "    if score <small:  \n",
    "        small = score\n",
    "print(f'최대값: {big}, 최소값: {small}')"
   ]
  },
  {
   "cell_type": "code",
   "execution_count": 6,
   "id": "1f00d922",
   "metadata": {},
   "outputs": [
    {
     "name": "stdout",
     "output_type": "stream",
     "text": [
      "최대값: 91, 최소값: 35\n"
     ]
    }
   ],
   "source": [
    "# data = [35,91,75,62,84]\n",
    "data = [35,62,75,84,91]\n",
    "# 최대값을 기억할 변수는 최소값을 기억할 변수에 각각 리스트의 0 번째 인덱스 요소를 초기치로 넣어주고 비교한다.\n",
    "big = data[0]\n",
    "small = data[0]\n",
    "for score in data[1:]:\n",
    "    if score > big:\n",
    "        big = score\n",
    "    elif score <small:  \n",
    "        small = score\n",
    "print(f'최대값: {big}, 최소값: {small}')"
   ]
  },
  {
   "cell_type": "markdown",
   "id": "0023ed5f",
   "metadata": {},
   "source": [
    "max(),min() 함수로 최대값, 최소 값 판단하기"
   ]
  },
  {
   "cell_type": "code",
   "execution_count": 7,
   "id": "4b6b59a7",
   "metadata": {
    "scrolled": true
   },
   "outputs": [
    {
     "name": "stdout",
     "output_type": "stream",
     "text": [
      "최대값: 91, 최소값: 35\n"
     ]
    }
   ],
   "source": [
    "data = [35,62,75,84,91]\n",
    "\n",
    "print(f'최대값: {max(data)}, 최소값: {min(data)}')"
   ]
  },
  {
   "cell_type": "markdown",
   "id": "f641e32c",
   "metadata": {},
   "source": [
    "데이터를 정렬시켜서 최대값, 최소값 판단하기"
   ]
  },
  {
   "cell_type": "code",
   "execution_count": 9,
   "id": "edf1136a",
   "metadata": {},
   "outputs": [
    {
     "name": "stdout",
     "output_type": "stream",
     "text": [
      "[35, 62, 74, 75, 91]\n",
      "최대값: 91, 최소값: 35\n",
      "[91, 75, 74, 62, 35]\n",
      "최대값: 91, 최소값: 35\n"
     ]
    }
   ],
   "source": [
    "data = [35, 91 , 75, 62,74]\n",
    "data.sort()\n",
    "print(data)\n",
    "print(f'최대값: {data[-1]}, 최소값: {data[0]}')\n",
    "data.sort(reverse=True)\n",
    "print(data)\n",
    "print(f'최대값: {data[0]}, 최소값: {data[-1]}')"
   ]
  },
  {
   "cell_type": "code",
   "execution_count": 15,
   "id": "6f8753ac",
   "metadata": {},
   "outputs": [
    {
     "name": "stdout",
     "output_type": "stream",
     "text": [
      "1번째 표준편차를 계산할 데이터를 입력하세요: 1\n",
      "2번째 표준편차를 계산할 데이터를 입력하세요: 2\n",
      "3번째 표준편차를 계산할 데이터를 입력하세요: 3\n",
      "4번째 표준편차를 계산할 데이터를 입력하세요: 4\n",
      "5번째 표준편차를 계산할 데이터를 입력하세요: 5\n",
      "6번째 표준편차를 계산할 데이터를 입력하세요: 999\n",
      "입력받은 데이터는 5개 이고 데이터는 [1, 2, 3, 4, 5] 입니다.\n"
     ]
    }
   ],
   "source": [
    "# 표준편차를 계산할 데이터를 999가 입력될 때 까지 입력 받는다. \n",
    "score = []\n",
    "# 999가 몇 번째 데이터로 입력될지 모르기 떄문에 무한 루프를 돌린다.\n",
    "while True:\n",
    "    data = int(input('{}번째 표준편차를 계산할 데이터를 입력하세요: '.format(len(score) +1 )))\n",
    "    #  입력받은 데이터가 999 면 더 이상 데이터를 입력 받을 필요 없으므로 무한 루프를 탈출한다.\n",
    "    if data == 999:\n",
    "        break\n",
    "    # ========== if\n",
    "    # 999가 입력되지 않았으므로 리스트에 입력받은 데이터를 추가한다.\n",
    "    score.append(data)\n",
    "# ============ while\n",
    "print(f'입력받은 데이터는 {len(score)}개 이고 데이터는 {score} 입니다.')"
   ]
  },
  {
   "cell_type": "markdown",
   "id": "ba3be6e3",
   "metadata": {},
   "source": [
    "최대값과 최소값을 제외한 나머지 데이터의 평균을 계산한다."
   ]
  },
  {
   "cell_type": "code",
   "execution_count": 21,
   "id": "2c134f77",
   "metadata": {},
   "outputs": [
    {
     "name": "stdout",
     "output_type": "stream",
     "text": [
      "최대값과 최소값을 제외한 나머지 데이터의 합계: 9\n",
      "최대값과 최소값을 제외한 나머지 데이터의 합계: 3.0\n"
     ]
    }
   ],
   "source": [
    "big = max(score)\n",
    "small = min(score)\n",
    "\n",
    "'''\n",
    "total = 0\n",
    "for s in score:\n",
    "    total += s\n",
    "# total = total - big - small\n",
    "total -= big +small\n",
    "'''\n",
    "total  = sum(score) -big - small\n",
    "print(f'최대값과 최소값을 제외한 나머지 데이터의 합계: {total}')\n",
    "mean = total / (len(score)-2)\n",
    "print(f'최대값과 최소값을 제외한 나머지 데이터의 합계: {mean}')"
   ]
  },
  {
   "cell_type": "code",
   "execution_count": 22,
   "id": "53d91c55",
   "metadata": {},
   "outputs": [
    {
     "name": "stdout",
     "output_type": "stream",
     "text": [
      "최대값과 최소값을 제외한 나머지 데이터의 합계 : 9\n",
      "최대값과 최소값을 제외한 나머지 데이터의 합계: 3.0\n"
     ]
    }
   ],
   "source": [
    "score.sort()\n",
    "total = 0\n",
    "'''\n",
    "# for s in score[1:len(score) -1]:\n",
    "for s in score[1:-1]:\n",
    "    total +=s\n",
    "'''\n",
    "total = sum(score[1:-1])\n",
    "print(f'최대값과 최소값을 제외한 나머지 데이터의 합계 : {total}')\n",
    "mean = total / (len(score)-2)\n",
    "print(f'최대값과 최소값을 제외한 나머지 데이터의 합계: {mean}')"
   ]
  },
  {
   "cell_type": "code",
   "execution_count": 23,
   "id": "6d792534",
   "metadata": {},
   "outputs": [],
   "source": [
    "import math"
   ]
  },
  {
   "cell_type": "code",
   "execution_count": 24,
   "id": "7e62477f",
   "metadata": {},
   "outputs": [
    {
     "ename": "SyntaxError",
     "evalue": "invalid syntax (<ipython-input-24-3011093a3dda>, line 1)",
     "output_type": "error",
     "traceback": [
      "\u001b[1;36m  File \u001b[1;32m\"<ipython-input-24-3011093a3dda>\"\u001b[1;36m, line \u001b[1;32m1\u001b[0m\n\u001b[1;33m    total s in score[1:-1]\u001b[0m\n\u001b[1;37m          ^\u001b[0m\n\u001b[1;31mSyntaxError\u001b[0m\u001b[1;31m:\u001b[0m invalid syntax\n"
     ]
    }
   ],
   "source": [
    "total s in score[1:-1]\n",
    "for s in score[1:-1]:\n",
    "    # total += (s - mean) * (s-mean)\n",
    "    # total += (s - mean) ** 2\n",
    "    total += math.pow(s-mean,2)\n",
    "print(f'최대값과 최소값을 제외한 나머지 데이터와 산술평균의 편차의 제곱의 합계: {total}')"
   ]
  },
  {
   "cell_type": "markdown",
   "id": "12e187b0",
   "metadata": {},
   "source": [
    "최대값과 최소값을 제회한 나머지 데이터의 분산"
   ]
  },
  {
   "cell_type": "code",
   "execution_count": 25,
   "id": "76ce0c80",
   "metadata": {},
   "outputs": [
    {
     "name": "stdout",
     "output_type": "stream",
     "text": [
      "최대값과 최소값을 제외한 나머지 데이터의 분산: 3.0\n"
     ]
    }
   ],
   "source": [
    "# 최대 값과 최소값을 제외한 나머지 데이터와 산술평균의 편차의 제곱의 평균을 계산한다.\n",
    "var = total /(len(score) -2)\n",
    "print(f'최대값과 최소값을 제외한 나머지 데이터의 분산: {var}')"
   ]
  },
  {
   "cell_type": "markdown",
   "id": "45cdad77",
   "metadata": {},
   "source": [
    "최대값과 최소값을 제외한 나머지 데이터의 표준 편차"
   ]
  },
  {
   "cell_type": "code",
   "execution_count": 26,
   "id": "72b39727",
   "metadata": {},
   "outputs": [
    {
     "name": "stdout",
     "output_type": "stream",
     "text": [
      "최대값과 최소값을 제외한 나머지 데이터의 표준 편차:1.7320508075688772\n"
     ]
    }
   ],
   "source": [
    "# std = var ** 0.5\n",
    "std = math.sqrt(var)\n",
    "print(f'최대값과 최소값을 제외한 나머지 데이터의 표준 편차:{std}')"
   ]
  },
  {
   "cell_type": "markdown",
   "id": "64597c8c",
   "metadata": {},
   "source": [
    "numpy 라이브러리를 이용해서 분산과 표준편차 계산하기  \n",
    "  \n",
    "numpy는 파이썬을 설치할 때 자동으로 설치되는라이브러리가 아니기 때문에 별도로 설치하는과정이 필요하다 .  \n",
    "콘솔 창에서 pip install numpy와 같이 입력해서 설치하면되고 쥬피터 노트북에서는 바로 라이브러리를 설치하려면   \n",
    "!pip install numpy와 같이 pip 앞에 '!'를 붙여서 실행하면   \n",
    "된다.\n"
   ]
  },
  {
   "cell_type": "code",
   "execution_count": 27,
   "id": "24e60789",
   "metadata": {},
   "outputs": [
    {
     "name": "stdout",
     "output_type": "stream",
     "text": [
      "Requirement already satisfied: numpy in c:\\python\\lib\\site-packages (1.19.5)\n"
     ]
    }
   ],
   "source": [
    "!pip install numpy"
   ]
  },
  {
   "cell_type": "code",
   "execution_count": null,
   "id": "3ca1cae9",
   "metadata": {},
   "outputs": [],
   "source": []
  },
  {
   "cell_type": "code",
   "execution_count": null,
   "id": "aae93d72",
   "metadata": {},
   "outputs": [],
   "source": []
  },
  {
   "cell_type": "code",
   "execution_count": null,
   "id": "4dc9629f",
   "metadata": {},
   "outputs": [],
   "source": []
  },
  {
   "cell_type": "code",
   "execution_count": null,
   "id": "cc526ecb",
   "metadata": {},
   "outputs": [],
   "source": []
  },
  {
   "cell_type": "code",
   "execution_count": null,
   "id": "a4d13a4c",
   "metadata": {},
   "outputs": [],
   "source": []
  },
  {
   "cell_type": "code",
   "execution_count": null,
   "id": "dbea54d6",
   "metadata": {},
   "outputs": [],
   "source": []
  }
 ],
 "metadata": {
  "kernelspec": {
   "display_name": "Python 3",
   "language": "python",
   "name": "python3"
  },
  "language_info": {
   "codemirror_mode": {
    "name": "ipython",
    "version": 3
   },
   "file_extension": ".py",
   "mimetype": "text/x-python",
   "name": "python",
   "nbconvert_exporter": "python",
   "pygments_lexer": "ipython3",
   "version": "3.6.8"
  }
 },
 "nbformat": 4,
 "nbformat_minor": 5
}
