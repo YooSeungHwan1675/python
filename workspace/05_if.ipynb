{
 "cells": [
  {
   "cell_type": "markdown",
   "id": "2f160044",
   "metadata": {},
   "source": [
    "if 명령 형식\n",
    "\n",
    "if 조건식:  \n",
    "&nbsp;&nbsp;&nbsp;&nbsp;조건식이 참일 경우 실행할 문장  \n",
    "&nbsp;&nbsp;&nbsp;&nbsp;...\n",
    "else:  \n",
    "&nbsp;&nbsp;&nbsp;&nbsp;조건식이 거짓일 경우 실행할 문장   \n",
    "&nbsp;&nbsp;&nbsp;&nbsp;...\n",
    "***\n",
    "조건식을 만족하지 않을 때 아무런 일도 할 필요가 없다면 else 이하를 생략할 수 있다.\n",
    "조건식을 만족하는 경우 또는 만족하지 않는 경우에 실행할 문장이 없다면 pass를 입력해야한다.\n"
   ]
  },
  {
   "cell_type": "markdown",
   "id": "fb7e2b85",
   "metadata": {},
   "source": [
    "관계 연산자\n",
    "\n",
    "&nbsp;< : 작다 , 미만  \n",
    "&nbsp;<=: 작거나 같다 , 이하  \n",
    "&nbsp;> : 크다, 초과  \n",
    "&nbsp;>=: 크거나 같다, 이상  \n",
    "&nbsp;==: 같다.  \n",
    "&nbsp;!=: 같지 않다.  \n"
   ]
  },
  {
   "cell_type": "markdown",
   "id": "4b1cb21d",
   "metadata": {},
   "source": [
    "논리 연산자\n",
    "\n",
    "and : 논리곱, 두 조건이 모두 참일 경우에만 참, ~ 이고 ~이면서 , ~중에서   \n",
    "or &nbsp;&nbsp;: 논리합, 두 조건 중에서 한 개 이상 참일 경우에 참, ~ 또는 , ~ 이거나  \n",
    "not : 논리 부정  \n",
    "        <img src=\"./images/pu.png\"></img>\n"
   ]
  },
  {
   "cell_type": "markdown",
   "id": "9e6b3517",
   "metadata": {},
   "source": [
    "연산자 우선순위\n",
    "\n",
    "단항 연산자 => 이상 연산자 => 삼항 연산자 => 대입 연산자 ('='와 같이 사용한다.)  \n",
    "이항 연산자: ** => *,/,//,% => +,- => 관계 연산자 => 논리 연산자   "
   ]
  },
  {
   "cell_type": "code",
   "execution_count": 8,
   "id": "894a7025",
   "metadata": {},
   "outputs": [
    {
     "name": "stdout",
     "output_type": "stream",
     "text": [
      "나이를 입력하세요:77\n",
      "<class 'int'>\n",
      "투표권이 있습니다.\n"
     ]
    }
   ],
   "source": [
    "# 나이를 입력받아 투표권이 있나 없나 판단한다.\n",
    "age = int(input('나이를 입력하세요:'))\n",
    "print(type(age))\n",
    "if age >= 18: \n",
    "    print('투표권이 있습니다.')\n",
    "else:\n",
    "    #else 일때 아무것도 실행하지 않을때는 \n",
    "    # pass 를 입력한다\n",
    "    print('투표권이 없습니다.')"
   ]
  },
  {
   "cell_type": "code",
   "execution_count": 31,
   "id": "5b829f53",
   "metadata": {},
   "outputs": [
    {
     "name": "stdout",
     "output_type": "stream",
     "text": [
      "주민번호 13 자리를 \"-\" 없이  입력하세요8304221185600\n",
      "1\n",
      "남자입니다.\n",
      "남자입니다.\n",
      "남자\n",
      "================================================================================\n",
      "남자입니다.\n",
      "남자\n",
      "================================================================================\n",
      "남자\n"
     ]
    }
   ],
   "source": [
    "# 주민등록 번호를 입력받아 성별을 판단한다.\n",
    "jumin = input('주민번호 13 자리를 \"-\" 없이  입력하세요')\n",
    "print(jumin[6])\n",
    "\n",
    "# 문자열로 비교\n",
    "if jumin[6] == '1' : # 2000 년 이후에 태어난 남자의 성별이 모두 여자로 출력된다.\n",
    "    print('남자입니다.')\n",
    "else:\n",
    "     print('여자 입니다.')\n",
    "\n",
    "if jumin[6] == '1' or jumin[6] == '3' or jumin[6] == '5' : # 2000 년 이후에 태어난 남자의 성별이 모두 여자로 출력된다.\n",
    "    print('남자입니다.')\n",
    "else:\n",
    "     print('여자 입니다.')    \n",
    "\n",
    "if jumin[6] in ['1' ,'3', '5']: # in 연산자 <-> not in 연산자\n",
    "    print('남자')\n",
    "else:\n",
    "    print('여자')  \n",
    "      \n",
    "print('='*80)  \n",
    "  \n",
    "# 숫자로 비교  \n",
    "  \n",
    "if int(jumin[6]) == 1 or int(jumin[6]) == 3 or int(jumin[6]) == 5 : # 2000 년 이후에 태어난 남자의 성별이 모두 여자로 출력된다.\n",
    "    print('남자입니다.')\n",
    "else:\n",
    "     print('여자 입니다.')    \n",
    "\n",
    "if int(jumin[6]) in [1 , 3, 5]: # in 연산자 <-> not in 연산자\n",
    "    print('남자')\n",
    "else:\n",
    "    print('여자')  \n",
    "\n",
    "print('='*80)  \n",
    "\n",
    "# 성별이 홀수면 남자 짝수면 여자로 비교  \n",
    "if int(jumin[6])%2 ==1: # in 연산자 <-> not in 연산자\n",
    "    print('남자')\n",
    "else:\n",
    "    print('여자')  \n",
    "    \n",
    "    \n",
    "    \n",
    "    "
   ]
  },
  {
   "cell_type": "code",
   "execution_count": 72,
   "id": "17b8b12e",
   "metadata": {},
   "outputs": [
    {
     "name": "stdout",
     "output_type": "stream",
     "text": [
      "주민번호 13 자리를 \"-\" 없이  입력하세요0303444185600\n",
      "03\n",
      "03\n",
      "<class 'str'>\n",
      "3\n",
      "<class 'int'>\n",
      "당신의 출생 년도는 2003년이고 나이는20세 입니다.\n",
      "당신의 출생 년도는 2003년 이고 나이는 20 세 입니다. \n",
      "당신의 출생 년도는 2003년 이고 나이는 20 세 입니다. \n",
      "당신의 출생년도는2003년이고 나이는20세 입니다.\n"
     ]
    }
   ],
   "source": [
    "# 주민등록번호를 입력받아 나이를 출력한다.\n",
    "jumin = input('주민번호 13 자리를 \"-\" 없이  입력하세요')\n",
    "print(jumin[0:2])\n",
    "print(jumin[:2])\n",
    "print(type(jumin[:2]))\n",
    "year = int(jumin[:2])\n",
    "print(year)\n",
    "print(type(year))\n",
    "\n",
    "# 성별이 2이하면 1900년대에 그렇치 않으면 2000년대에 태어 났다.\n",
    "'''\n",
    "if jumin[6] <= '2':\n",
    "    # year += year + 1900\n",
    "    # 대입 연산자 \n",
    "    # '='와 같이 사용하는 연산자를 말하며 우선순위가 가장 늦다. =>  += ,-= , *= ,/= ,//= ,%=\n",
    "    year += 1900\n",
    "else :\n",
    "    year += 2000\n",
    "'''\n",
    "# 삼항 연산자(간단한 if ~ else) => C/C++ 이나 java는  '?:'를 사용한다.\n",
    "# 형식 => 조건이 참일 때 실행할 문장 if 조건식 else 조건이 거짓일 경우  실행할 문장\n",
    "# year라는 변수에 1900을 더할건데 만약에 jumin[6] <= '2' 조건을 만족하지 않는다면 2000을 더한다.\n",
    "year += 1900 if jumin[6] <= '2' else 2000\n",
    "\n",
    "print('당신의 출생 년도는 {}년이고 나이는{}세 입니다.'.format(year,2023- year))\n",
    "\n",
    "from datetime import datetime as dt\n",
    "today = dt.now()\n",
    "print('당신의 출생 년도는 %d년 이고 나이는 %d 세 입니다. '% (year,today.year - year))\n",
    "print('당신의 출생 년도는 {}년 이고 나이는 {} 세 입니다. '.format(year,today.year - year))\n",
    "print(f'당신의 출생년도는{year}년이고 나이는{today.year - year}세 입니다.')"
   ]
  },
  {
   "cell_type": "code",
   "execution_count": 59,
   "id": "b10cafc3",
   "metadata": {
    "scrolled": false
   },
   "outputs": [
    {
     "name": "stdout",
     "output_type": "stream",
     "text": [
      "2023-07-03 11:23:16.024609\n",
      "년: 2023\n",
      "월: 7\n",
      "일: 3\n",
      "시: 11\n",
      "분: 23\n",
      "초: 16\n",
      "마이크로 초: 24609\n",
      "밀리 초: 24\n",
      "요일: 0\n",
      "요일: 월\n"
     ]
    }
   ],
   "source": [
    "from datetime import datetime as dt\n",
    "today = dt.now()\n",
    "print(today)\n",
    "\n",
    "print('년: {}'.format(today.year))\n",
    "print('월: {}'.format(today.month))\n",
    "print('일: {}'.format(today.day))\n",
    "print('시: {}'.format(today.hour))\n",
    "print('분: {}'.format(today.minute))\n",
    "print('초: {}'.format(today.second))\n",
    "print('마이크로 초: {}'.format(today.microsecond))\n",
    "print('밀리 초: {}'.format(today.microsecond // 1000))\n",
    "#weekday() 메소드로 요일을 숫자로 얻어올 수 있다 . => 월(0) 화(1), 수(2), 목(3),금(4) , 토(5), 일(6)\n",
    "print('요일: {}'.format(today.weekday()))\n",
    "week = ['월' ,'화' ,'수','목','금','토','일']\n",
    "print('요일: {}'.format(week[today.weekday()]))"
   ]
  },
  {
   "cell_type": "code",
   "execution_count": 101,
   "id": "58b1a656",
   "metadata": {},
   "outputs": [
    {
     "name": "stdout",
     "output_type": "stream",
     "text": [
      "윤년 / 평년을 판단할 년도를 입력하세요 2100\n",
      "2100년은 평년\n",
      "2100년은 평년입니다.\n"
     ]
    }
   ],
   "source": [
    "# 윤년 평년 판단하기\n",
    "# 년도가 4로 나눠 떨어지고 (and) 100으로 나눠 떨어지지 않거나(or) 400으로 나눠 떨어지면 윤년 , 그렇지 않으면 평년 \n",
    "year = int(input('윤년 / 평년을 판단할 년도를 입력하세요 '))\n",
    "\n",
    "# 프로그램에서 여러번 사용되는 데이터나 연산 결과는 변수에 저장해서 사용하면 편리하다 .\n",
    "isLeapYear = year %4 ==0 and year %100 != 0 or year %400 ==0\n",
    "if isLeapYear:\n",
    "    print('{}년은 윤년'.format(year))\n",
    "else :\n",
    "    print('{}년은 평년'.format(year))\n",
    "    \n",
    "print('{}년은 {}년입니다.'.format(year,'윤' if isLeapYear else '평'))"
   ]
  },
  {
   "cell_type": "code",
   "execution_count": 131,
   "id": "b03bb269",
   "metadata": {
    "scrolled": true
   },
   "outputs": [
    {
     "name": "stdout",
     "output_type": "stream",
     "text": [
      "3과목 점수를 입력하세요: 60 60 60\n",
      "180\n",
      "60.0\n",
      "평균: 60.00점 d학점 입니다.\n"
     ]
    }
   ],
   "source": [
    "# 세 과목 점수를 입력 받아 평균 점수가 90 점이면 A, 80 점 이상이면 B, 70 점이상이면 C, 60 점이상이면 D,\n",
    "# 그 이외의 경우 F 를 출력한다.\n",
    "java,jsp , python = map(int, input('3과목 점수를 입력하세요: ').split())\n",
    "total = java + jsp + python\n",
    "print(total)\n",
    "avg = total /3 \n",
    "print(avg)\n",
    "if avg >= 90:\n",
    "    print('평균: {:.2f}점 a학점 입니다.'.format(avg))\n",
    "if 90 > avg >= 80:\n",
    "    print('평균: {:.2f}점 b학점 입니다.'.format(avg))\n",
    "if 80 > avg >= 70:\n",
    "    print('평균: {:.2f}점 c학점 입니다.'.format(avg))\n",
    "if 70 > avg >= 60:\n",
    "    print('평균: {:.2f}점 d학점 입니다.'.format(avg))\n",
    "if avg < 60 :\n",
    "    print('평균: {:.2f}점 f학점입니다.'.format(avg))"
   ]
  },
  {
   "cell_type": "code",
   "execution_count": 144,
   "id": "7d713b73",
   "metadata": {
    "scrolled": true
   },
   "outputs": [
    {
     "name": "stdout",
     "output_type": "stream",
     "text": [
      "3과목 점수를 입력하세요: 99 99 99\n",
      "297\n",
      "99.0\n",
      "평균: 99.00점 a학점 입니다.\n"
     ]
    }
   ],
   "source": [
    "# 세 과목 점수를 입력 받아 평균 점수가 90 점이면 A, 80 점 이상이면 B, 70 점이상이면 C, 60 점이상이면 D,\n",
    "# 그 이외의 경우 F 를 출력한다.\n",
    "java,jsp , python = map(int, input('3과목 점수를 입력하세요: ').split())\n",
    "total = java + jsp + python\n",
    "print(total)\n",
    "avg = total /3 \n",
    "print(avg)\n",
    "if avg >= 90:\n",
    "    print('평균: {:.2f}점 a학점 입니다.'.format(avg))\n",
    "elif 90 > avg >= 80:\n",
    "    print('평균: {:.2f}점 b학점 입니다.'.format(avg))\n",
    "elif 80 > avg >= 70:\n",
    "    print('평균: {:.2f}점 c학점 입니다.'.format(avg))\n",
    "elif 70 > avg >= 60:\n",
    "    print('평균: {:.2f}점 d학점 입니다.'.format(avg))\n",
    "else :\n",
    "    print('평균: {:.2f}점 f학점입니다.'.format(avg))"
   ]
  },
  {
   "cell_type": "code",
   "execution_count": null,
   "id": "74856799",
   "metadata": {},
   "outputs": [],
   "source": [
    "# 세 과목 점수를 입력 받아 평균 점수가 90 점이면 A, 80 점 이상이면 B, 70 점이상이면 C, 60 점이상이면 D,\n",
    "# 그 이외의 경우 F 를 출력한다.\n",
    "java,jsp , python = map(int, input('3과목 점수를 입력하세요: ').split())\n",
    "total = java + jsp + python\n",
    "print(total)\n",
    "avg = total /3 \n",
    "print(avg)\n",
    "if avg >= 90:\n",
    "    print('평균: {:.2f}점 a학점 입니다.'.format(avg))\n",
    "if 90 > avg >= 80:\n",
    "    print('평균: {:.2f}점 b학점 입니다.'.format(avg))\n",
    "if 80 > avg >= 70:\n",
    "    print('평균: {:.2f}점 c학점 입니다.'.format(avg))\n",
    "if 70 > avg >= 60:\n",
    "    print('평균: {:.2f}점 d학점 입니다.'.format(avg))\n",
    "if avg < 60 :\n",
    "    print('평균: {:.2f}점 f학점입니다.'.format(avg))"
   ]
  },
  {
   "cell_type": "code",
   "execution_count": 145,
   "id": "2ad241c9",
   "metadata": {},
   "outputs": [],
   "source": [
    "# 난수를 발생시키는 random 모듈을 import 한다.\n",
    "import random"
   ]
  },
  {
   "cell_type": "code",
   "execution_count": 252,
   "id": "05274c99",
   "metadata": {},
   "outputs": [
    {
     "name": "stdout",
     "output_type": "stream",
     "text": [
      "6\n",
      "4\n"
     ]
    }
   ],
   "source": [
    "# randint(a,b) 메소드는 a부터 b 사이의 난수를 정수로 발생시킨다.\n",
    "print(random.randint(1,6))\n",
    "# random() 메소드는 0 이상이고 1 미만인 난수를 실수로 발생시킨다.\n",
    "# randrange(a,b) 메소드는 부터 b-1 사이의 난수를 정수로 발생시킨다.\n",
    "print(random.randrange(1,6))"
   ]
  },
  {
   "cell_type": "code",
   "execution_count": 267,
   "id": "13f843f3",
   "metadata": {},
   "outputs": [
    {
     "name": "stdout",
     "output_type": "stream",
     "text": [
      "가위(1), 바위(2), 보(3):3\n",
      "cpu: 2, user:3\n",
      "이겼다\n"
     ]
    }
   ],
   "source": [
    "# 가위 바위, 보\n",
    "cpu = random.randint(1,3)\n",
    "user = int(input('가위(1), 바위(2), 보(3):'))\n",
    "print(f'cpu: {cpu}, user:{user}')\n",
    "\n",
    "# 이기는 경우 : cpu ==1 이고 user ==2 또는 cpu == 2 이고 user == 3 또는 cpu ==3 이고 user ==1\n",
    "# 지는 경우: cpu ==1 이고 user ==3 또는 cpu ==2 이고 user ==1 또는 cpu ==3 이고 user ==2\n",
    "# 이기는 경우와 지는 경우를 제외한 나머지가 비기는 경우가 된다. cpu == user\n",
    "if cpu == user:\n",
    "    print('비겼다')\n",
    "elif (cpu ==1 and user ==2) or (cpu == 2 and user == 3) or (cpu ==3 and user ==1):\n",
    "    print('이겼다')\n",
    "else:\n",
    "    print('졌다.')"
   ]
  }
 ],
 "metadata": {
  "kernelspec": {
   "display_name": "Python 3",
   "language": "python",
   "name": "python3"
  },
  "language_info": {
   "codemirror_mode": {
    "name": "ipython",
    "version": 3
   },
   "file_extension": ".py",
   "mimetype": "text/x-python",
   "name": "python",
   "nbconvert_exporter": "python",
   "pygments_lexer": "ipython3",
   "version": "3.6.8"
  }
 },
 "nbformat": 4,
 "nbformat_minor": 5
}
