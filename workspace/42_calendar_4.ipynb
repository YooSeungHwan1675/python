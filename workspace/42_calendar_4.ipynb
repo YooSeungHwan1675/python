{
 "cells": [
  {
   "cell_type": "markdown",
   "id": "b38821f3",
   "metadata": {},
   "source": [
    "import 할 때 모듈 이름만 쓰면 현재 작업중인 소스 프로그램이 위차한 경로에 위치한 모듈임을 의미한다.  \n",
    "import 할 모듈이 현재 작업중인 소스 프로그램이 위치한 폴더에 존재하지 않고 소그 프로그램이 위치한 폴더의 하위 폴더에 존재할 경우 모듈이 위치한 폴더 이름을 쓰고 '.'으로 구분해서 모듈이름을 쓰면된다."
   ]
  },
  {
   "cell_type": "code",
   "execution_count": 2,
   "id": "c569b49c",
   "metadata": {},
   "outputs": [],
   "source": [
    "import lib.calModule as cm"
   ]
  },
  {
   "cell_type": "markdown",
   "id": "84a2e36d",
   "metadata": {},
   "source": [
    "import 된 모듈 함수를 실행하려면 모듈이름.함수이름() 형태로 사용한다."
   ]
  },
  {
   "cell_type": "code",
   "execution_count": 3,
   "id": "d1fe9bb9",
   "metadata": {},
   "outputs": [
    {
     "name": "stdout",
     "output_type": "stream",
     "text": [
      "달력을 출력할 년과 월을 입력하세요: 2023 7\n",
      "============================\n",
      "        2023년 7월\n",
      "============================\n",
      " 일  월  화  수  목  금  토 \n",
      "============================\n",
      "                          1 \n",
      "  2   3   4   5   6   7   8 \n",
      "  9  10  11  12  13  14  15 \n",
      " 16  17  18  19  20  21  22 \n",
      " 23  24  25  26  27  28  29 \n",
      " 30  31 \n",
      "============================\n"
     ]
    }
   ],
   "source": [
    "# 달력을 출력할 년, 월을 입력받는다.\n",
    "year, month = map(int,input('달력을 출력할 년과 월을 입력하세요: ').split())\n",
    "\n",
    "print('='*28)\n",
    "print('        {:4d}년{:2d}월'.format(year, month))\n",
    "print('='*28)\n",
    "print(' 일  월  화  수  목  금  토 ')\n",
    "print('='*28)\n",
    "\n",
    "# 1일이 출력될 위치(요일) 을 맞추기 위해서 1일의 요일만큼 반복하며 빈칸을 출력한다. => 빈칸은 요일당 4칸\n",
    "for _ in range(cm.weekDay(year,month,1)):\n",
    "    print('    ',end='')\n",
    "    \n",
    "# 1일부터 달력을 출력할 달의 마지막 날짜까지 반복하며 날짜를 출력한다.\n",
    "for i in range(1, cm.lastDay(year,month) + 1):\n",
    "    print(' {:2d} '.format(i), end= '')\n",
    "    # 출력한 날짜가(i)가 토요일 이면 줄을 바꾼다.\n",
    "    if cm.weekDay(year, month,i) ==6 and i != cm.lastDay(year,month):\n",
    "        print()\n",
    "    # ===================== if\n",
    "# ================== for\n",
    "print('\\n' + '=' *28)"
   ]
  }
 ],
 "metadata": {
  "kernelspec": {
   "display_name": "Python 3",
   "language": "python",
   "name": "python3"
  },
  "language_info": {
   "codemirror_mode": {
    "name": "ipython",
    "version": 3
   },
   "file_extension": ".py",
   "mimetype": "text/x-python",
   "name": "python",
   "nbconvert_exporter": "python",
   "pygments_lexer": "ipython3",
   "version": "3.6.8"
  }
 },
 "nbformat": 4,
 "nbformat_minor": 5
}
