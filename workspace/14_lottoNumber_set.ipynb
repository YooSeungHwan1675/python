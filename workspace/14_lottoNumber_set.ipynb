{
 "cells": [
  {
   "cell_type": "code",
   "execution_count": 1,
   "id": "abdbe2b2",
   "metadata": {},
   "outputs": [],
   "source": [
    "import random"
   ]
  },
  {
   "cell_type": "code",
   "execution_count": 16,
   "id": "a638ef3e",
   "metadata": {},
   "outputs": [
    {
     "name": "stdout",
     "output_type": "stream",
     "text": [
      "1등 번호: {3, 5, 38, 10, 45, 30}\n",
      "1등 번호: {3, 5, 38, 10, 45, 30} 보너스 번호 9 \n"
     ]
    }
   ],
   "source": [
    "# 로또 1등 번호를 기억할 빈 리스트를 만든다.\n",
    "lotto = set()\n",
    "# 1등 번호\n",
    "while True:\n",
    "    # 1~45 사이의 난수를 발생시킨다.\n",
    "    number = random.randint(1,45)\n",
    "    # 리스트는 중복을 확인하는 if 가 필요했지만 set은 중복 데이터를 허용하지 않기 때문에 중복을 확인하는 if 가 필요없다.\n",
    "    if number not in lotto:\n",
    "        lotto.add(number)\n",
    "    #======== if\n",
    "    # 리스트에 중복되지않는 숫자가 6개 저장되면 무한 루프를 탈출 시킨다 .\n",
    "    if len(lotto) ==6:\n",
    "        break\n",
    "    # ======== if\n",
    "# ===== while\n",
    "print('1등 번호: {}'.format(lotto))\n",
    "\n",
    "# 보너스 번호\n",
    "while True:\n",
    "    bonus = random.randint(1,45)\n",
    "   # print(bonus)\n",
    "    if bonus not in lotto:\n",
    "        break\n",
    "    # ===============\n",
    "#=======================\n",
    "print('1등 번호: {} 보너스 번호 {} '.format(lotto , bonus))"
   ]
  }
 ],
 "metadata": {
  "kernelspec": {
   "display_name": "Python 3",
   "language": "python",
   "name": "python3"
  },
  "language_info": {
   "codemirror_mode": {
    "name": "ipython",
    "version": 3
   },
   "file_extension": ".py",
   "mimetype": "text/x-python",
   "name": "python",
   "nbconvert_exporter": "python",
   "pygments_lexer": "ipython3",
   "version": "3.6.8"
  }
 },
 "nbformat": 4,
 "nbformat_minor": 5
}
