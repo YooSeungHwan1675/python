{
 "cells": [
  {
   "cell_type": "code",
   "execution_count": 1,
   "id": "f4f824b7",
   "metadata": {},
   "outputs": [],
   "source": [
    "import random\n",
    "import datetime"
   ]
  },
  {
   "cell_type": "code",
   "execution_count": null,
   "id": "1cd9a464",
   "metadata": {},
   "outputs": [],
   "source": [
    "%%time\n",
    "# 1 ~ 9 사이의 숫자가 채워진 리스트 또는 튜플을 만든다\n",
    "baseball = [i for i in range(1, 10)]\n",
    "#print(야구)\n",
    "\n",
    "# 섞는다.\n",
    "random.shuffle(baseball)\n",
    "#print(baseball)\n",
    "start = datetime.datetime.now()\n",
    "print(start)\n",
    "# 레벨을 입력받는다.\n",
    "level = int(input('레벨을 입력하세요(1 ~ 9):'))\n",
    "# cpu = baseball[:level]\n",
    "cpu = random.sample(baseball, level)\n",
    "print(cpu)\n",
    "\n",
    "# 몇 번 만에 맞췃나 기억할 변수를 선언하고 0으로 초기화 시킨다.\n",
    "count =0\n",
    "# =========================================================\n",
    "\n",
    "# 몇번만에 맞출지 모르기 때문에 무한 루프를 돌려서 처리한다.\n",
    "while True:\n",
    "    # 새 반복이 시작될 때마다 스트라이크 개수와 볼의 개수를 세는 변수를 0으로 초기화 시킨다.\n",
    "    # 초기화 시키지 않으면 이전 반복의 스트라이크 개수와 볼의 개수에 현재 반복의 스트라이크, 볼의 개수가 누적된다.\n",
    "    s = 0 # 스트라이크 개수\n",
    "    b = 0 # 볼의 개수\n",
    "    # 컴퓨터가 랜덤하게 발생시킨 숨겨놓은 숫자를 맞추기 위해 유저에게 입력을 요구한다.\n",
    "    user = input('맞춰주세요: ')\n",
    "    count +=1\n",
    "    # 레벨만큼 반복하며 스트라이크의 개수와 볼의 개수를 센다.\n",
    "    for i in range(level):\n",
    "        # 스트라이크 => cpu와 user의 같은 인덱스의 데이터가 같다.\n",
    "        # cpu와 user의 데이터 타입이 다르기 때문에 str() 또는 int() 함수로 데이터 타입을 일치시켜 비교한다.\n",
    "        # str() 함수는 인수로 지정된 숫자를 문자열로 변환한다.\n",
    "        # chr() 함수는 인수로 지정된 코드값에 해당되는 문자를 리턴한다.\n",
    "        # int() 함수는 인수로 지장된 문자열을 숫자로 변환한다.\n",
    "        if cpu[i] == int(user[i]): # if str(cpu[i]) == user[i]:와 같이 조건을 비교해도 된다.\n",
    "            s += 1\n",
    "        # 볼 => user[i]가 cpu 리스트에 포함되어 있다.\n",
    "        elif int(user[i]) in cpu:\n",
    "            b += 1\n",
    "    # ===== for\n",
    "        \n",
    "    # 스트라이크의 개수와 레벨이 같으면 맞춘것이므로 무한루프를 탈출한다.\n",
    "    if s == level:\n",
    "            break\n",
    "            \n",
    "    # 맞추지 못했으므로 힌트를 출력한다.\n",
    "    print(f'{s} 스트라이크 {b} 볼')\n",
    "    \n",
    "# ===== while\n",
    "print(f'{count} 번만에 맞췄습니다.')\n"
   ]
  },
  {
   "cell_type": "code",
   "execution_count": null,
   "id": "16e35a43",
   "metadata": {},
   "outputs": [],
   "source": [
    "print(chr(65),str(65),type(str(65)))"
   ]
  },
  {
   "cell_type": "code",
   "execution_count": 5,
   "id": "1a0d3b0d",
   "metadata": {},
   "outputs": [
    {
     "name": "stdout",
     "output_type": "stream",
     "text": [
      "2023-07-07 13:24:05.566104\n",
      "레벨을 입력하세요(1 ~ 9):3\n",
      "[4, 5, 1]\n",
      "맞춰주세요: 4 5 1\n",
      "<class 'list'>\n",
      "1 번만에 걸려서 맞췄습니다.\n",
      "Wall time: 2.39 s\n"
     ]
    }
   ],
   "source": [
    "%%time\n",
    "baseball = [i for i in range(1, 10)]\n",
    "\n",
    "random.shuffle(baseball)\n",
    "start = datetime.datetime.now()\n",
    "print(start)\n",
    "level = int(input('레벨을 입력하세요(1 ~ 9):'))\n",
    "cpu = random.sample(baseball, level)\n",
    "print(cpu)\n",
    "\n",
    "count =0\n",
    "\n",
    "while True:\n",
    "    s = 0; b = 0 \n",
    "    # user = input('맞춰봐:')\n",
    "    user = input('맞춰주세요: ').split()\n",
    "    print(type(user))\n",
    "    count +=1\n",
    "    for i in range(level):\n",
    "        if cpu[i] == int(user[i]): # if str(cpu[i]) == user[i]:와 같이 조건을 비교해도 된다.\n",
    "            s += 1\n",
    "        elif int(user[i]) in cpu:\n",
    "            b += 1\n",
    "    # ===== for\n",
    "        \n",
    "    if s == level:\n",
    "            break\n",
    "            \n",
    "    # 맞추지 못했으므로 힌트를 출력한다.\n",
    "    print(f'{s} 스트라이크 {b} 볼')\n",
    "    \n",
    "# ===== while\n",
    "print(f'{count} 번만에 걸려서 맞췄습니다.')\n"
   ]
  },
  {
   "cell_type": "code",
   "execution_count": null,
   "id": "5ad32d7d",
   "metadata": {},
   "outputs": [],
   "source": []
  }
 ],
 "metadata": {
  "kernelspec": {
   "display_name": "Python 3",
   "language": "python",
   "name": "python3"
  },
  "language_info": {
   "codemirror_mode": {
    "name": "ipython",
    "version": 3
   },
   "file_extension": ".py",
   "mimetype": "text/x-python",
   "name": "python",
   "nbconvert_exporter": "python",
   "pygments_lexer": "ipython3",
   "version": "3.6.8"
  }
 },
 "nbformat": 4,
 "nbformat_minor": 5
}
